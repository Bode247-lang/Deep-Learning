{
 "cells": [
  {
   "cell_type": "markdown",
   "metadata": {
    "id": "fN174N7Eva4L"
   },
   "source": [
    "Use sigmoid in output layer. All other places use try to use tanh.\n",
    "\n",
    "For hidden layers if you are not sure which activation function to use, just use ReLU as your default choice."
   ]
  },
  {
   "cell_type": "code",
   "execution_count": 1,
   "metadata": {
    "executionInfo": {
     "elapsed": 5,
     "status": "ok",
     "timestamp": 1721573590051,
     "user": {
      "displayName": "Bamidele Temitope",
      "userId": "08343118629010694587"
     },
     "user_tz": -60
    },
    "id": "oMRYREJvUdIy"
   },
   "outputs": [],
   "source": [
    "# The sigmoid function try to convert any value in a range of zero to 1\n",
    "\n",
    "import math\n",
    "\n",
    "def sigmoid(x):\n",
    "  return 1 / (1 + math.exp(-x))"
   ]
  },
  {
   "cell_type": "code",
   "execution_count": 2,
   "metadata": {
    "colab": {
     "base_uri": "https://localhost:8080/"
    },
    "executionInfo": {
     "elapsed": 6,
     "status": "ok",
     "timestamp": 1721573723401,
     "user": {
      "displayName": "Bamidele Temitope",
      "userId": "08343118629010694587"
     },
     "user_tz": -60
    },
    "id": "YoDxAxZoyCfv",
    "outputId": "1faddeae-da03-4e4d-c60a-763c6e2bb98e"
   },
   "outputs": [
    {
     "data": {
      "text/plain": [
       "1.0"
      ]
     },
     "execution_count": 2,
     "metadata": {},
     "output_type": "execute_result"
    }
   ],
   "source": [
    "sigmoid(100)"
   ]
  },
  {
   "cell_type": "code",
   "execution_count": 3,
   "metadata": {
    "colab": {
     "base_uri": "https://localhost:8080/"
    },
    "executionInfo": {
     "elapsed": 6,
     "status": "ok",
     "timestamp": 1721573763610,
     "user": {
      "displayName": "Bamidele Temitope",
      "userId": "08343118629010694587"
     },
     "user_tz": -60
    },
    "id": "cCIaq9xVykmj",
    "outputId": "f6076210-41dd-4d60-ed69-126b38c12d43"
   },
   "outputs": [
    {
     "data": {
      "text/plain": [
       "0.7310585786300049"
      ]
     },
     "execution_count": 3,
     "metadata": {},
     "output_type": "execute_result"
    }
   ],
   "source": [
    "sigmoid(1)"
   ]
  },
  {
   "cell_type": "code",
   "execution_count": 4,
   "metadata": {
    "colab": {
     "base_uri": "https://localhost:8080/"
    },
    "executionInfo": {
     "elapsed": 5,
     "status": "ok",
     "timestamp": 1721573794512,
     "user": {
      "displayName": "Bamidele Temitope",
      "userId": "08343118629010694587"
     },
     "user_tz": -60
    },
    "id": "gSPSMLJvyueZ",
    "outputId": "f9680725-7a74-4f2f-a3d3-dea10222b3f7"
   },
   "outputs": [
    {
     "data": {
      "text/plain": [
       "4.780892883885469e-25"
      ]
     },
     "execution_count": 4,
     "metadata": {},
     "output_type": "execute_result"
    }
   ],
   "source": [
    "sigmoid(-56)"
   ]
  },
  {
   "cell_type": "code",
   "execution_count": 5,
   "metadata": {
    "colab": {
     "base_uri": "https://localhost:8080/"
    },
    "executionInfo": {
     "elapsed": 399,
     "status": "ok",
     "timestamp": 1721573810822,
     "user": {
      "displayName": "Bamidele Temitope",
      "userId": "08343118629010694587"
     },
     "user_tz": -60
    },
    "id": "nk-vp3owy2BJ",
    "outputId": "ad8e045c-8687-455c-d8cf-816dd8c3073c"
   },
   "outputs": [
    {
     "data": {
      "text/plain": [
       "0.6224593312018546"
      ]
     },
     "execution_count": 5,
     "metadata": {},
     "output_type": "execute_result"
    }
   ],
   "source": [
    "sigmoid(0.5)"
   ]
  },
  {
   "cell_type": "code",
   "execution_count": 6,
   "metadata": {
    "executionInfo": {
     "elapsed": 5,
     "status": "ok",
     "timestamp": 1721573919209,
     "user": {
      "displayName": "Bamidele Temitope",
      "userId": "08343118629010694587"
     },
     "user_tz": -60
    },
    "id": "nxn6QAx4y50G"
   },
   "outputs": [],
   "source": [
    "# tanh: This function will convert a value between -1 and 1\n",
    "\n",
    "def tanh(x):\n",
    "  return (math.exp(x) - math.exp(-x)) / (math.exp(x) + math.exp(-x))"
   ]
  },
  {
   "cell_type": "code",
   "execution_count": 7,
   "metadata": {
    "colab": {
     "base_uri": "https://localhost:8080/"
    },
    "executionInfo": {
     "elapsed": 8,
     "status": "ok",
     "timestamp": 1721574098467,
     "user": {
      "displayName": "Bamidele Temitope",
      "userId": "08343118629010694587"
     },
     "user_tz": -60
    },
    "id": "IrdTuukMzUdp",
    "outputId": "b01c18ac-5948-4444-9025-dbfa2235ff04"
   },
   "outputs": [
    {
     "data": {
      "text/plain": [
       "-1.0"
      ]
     },
     "execution_count": 7,
     "metadata": {},
     "output_type": "execute_result"
    }
   ],
   "source": [
    "tanh(-56)"
   ]
  },
  {
   "cell_type": "code",
   "execution_count": 8,
   "metadata": {
    "colab": {
     "base_uri": "https://localhost:8080/"
    },
    "executionInfo": {
     "elapsed": 4,
     "status": "ok",
     "timestamp": 1721574111104,
     "user": {
      "displayName": "Bamidele Temitope",
      "userId": "08343118629010694587"
     },
     "user_tz": -60
    },
    "id": "dj7ok7Eb0AK-",
    "outputId": "baac6cbf-b0bf-4cb9-afe7-97b078f69520"
   },
   "outputs": [
    {
     "data": {
      "text/plain": [
       "1.0"
      ]
     },
     "execution_count": 8,
     "metadata": {},
     "output_type": "execute_result"
    }
   ],
   "source": [
    "tanh(50)"
   ]
  },
  {
   "cell_type": "code",
   "execution_count": 9,
   "metadata": {
    "colab": {
     "base_uri": "https://localhost:8080/"
    },
    "executionInfo": {
     "elapsed": 5,
     "status": "ok",
     "timestamp": 1721574138484,
     "user": {
      "displayName": "Bamidele Temitope",
      "userId": "08343118629010694587"
     },
     "user_tz": -60
    },
    "id": "KRFdeEMD0DUO",
    "outputId": "58a4906c-1184-49e4-ea47-d61bd2de0d4b"
   },
   "outputs": [
    {
     "data": {
      "text/plain": [
       "0.7615941559557649"
      ]
     },
     "execution_count": 9,
     "metadata": {},
     "output_type": "execute_result"
    }
   ],
   "source": [
    "tanh(1)"
   ]
  },
  {
   "cell_type": "code",
   "execution_count": 10,
   "metadata": {
    "executionInfo": {
     "elapsed": 792,
     "status": "ok",
     "timestamp": 1721574314530,
     "user": {
      "displayName": "Bamidele Temitope",
      "userId": "08343118629010694587"
     },
     "user_tz": -60
    },
    "id": "wfqbj8SM0JpD"
   },
   "outputs": [],
   "source": [
    "# This function returns 0 for negative values and that same value itself for positive values\n",
    "def relu(x):\n",
    "  return max(0, x)"
   ]
  },
  {
   "cell_type": "code",
   "execution_count": 11,
   "metadata": {
    "colab": {
     "base_uri": "https://localhost:8080/"
    },
    "executionInfo": {
     "elapsed": 2241,
     "status": "ok",
     "timestamp": 1721574325904,
     "user": {
      "displayName": "Bamidele Temitope",
      "userId": "08343118629010694587"
     },
     "user_tz": -60
    },
    "id": "3tq1zv6c00lQ",
    "outputId": "9941461c-f558-4f41-d66a-f54231a5ab69"
   },
   "outputs": [
    {
     "data": {
      "text/plain": [
       "1"
      ]
     },
     "execution_count": 11,
     "metadata": {},
     "output_type": "execute_result"
    }
   ],
   "source": [
    "relu(1)"
   ]
  },
  {
   "cell_type": "code",
   "execution_count": 12,
   "metadata": {
    "colab": {
     "base_uri": "https://localhost:8080/"
    },
    "executionInfo": {
     "elapsed": 841,
     "status": "ok",
     "timestamp": 1721574338483,
     "user": {
      "displayName": "Bamidele Temitope",
      "userId": "08343118629010694587"
     },
     "user_tz": -60
    },
    "id": "zSzUs1v103Dv",
    "outputId": "09c9fb86-c6cc-4ce3-d6f8-86b38317c352"
   },
   "outputs": [
    {
     "data": {
      "text/plain": [
       "0"
      ]
     },
     "execution_count": 12,
     "metadata": {},
     "output_type": "execute_result"
    }
   ],
   "source": [
    "relu(-1)"
   ]
  },
  {
   "cell_type": "code",
   "execution_count": 13,
   "metadata": {
    "executionInfo": {
     "elapsed": 484,
     "status": "ok",
     "timestamp": 1721574574892,
     "user": {
      "displayName": "Bamidele Temitope",
      "userId": "08343118629010694587"
     },
     "user_tz": -60
    },
    "id": "uJxZ1xYt06kQ"
   },
   "outputs": [],
   "source": [
    "# the leaky relu multiples 0.1 with negative values but only returns the positive values\n",
    "\n",
    "def leaky_relu(x):\n",
    "  return max(0.1 * x, x)"
   ]
  },
  {
   "cell_type": "code",
   "execution_count": 14,
   "metadata": {
    "colab": {
     "base_uri": "https://localhost:8080/"
    },
    "executionInfo": {
     "elapsed": 634,
     "status": "ok",
     "timestamp": 1721574509747,
     "user": {
      "displayName": "Bamidele Temitope",
      "userId": "08343118629010694587"
     },
     "user_tz": -60
    },
    "id": "o1OgU1gb1GYj",
    "outputId": "5a159183-d0b0-4bd3-dc30-2c6e899195e6"
   },
   "outputs": [
    {
     "data": {
      "text/plain": [
       "-20.0"
      ]
     },
     "execution_count": 14,
     "metadata": {},
     "output_type": "execute_result"
    }
   ],
   "source": [
    "leaky_relu(-200)"
   ]
  },
  {
   "cell_type": "code",
   "execution_count": null,
   "metadata": {
    "id": "EDT7vtvF1ZO5"
   },
   "outputs": [],
   "source": []
  }
 ],
 "metadata": {
  "accelerator": "GPU",
  "colab": {
   "authorship_tag": "ABX9TyNeRzlo8nl13DS/MZHHMUbo",
   "gpuType": "T4",
   "provenance": []
  },
  "kernelspec": {
   "display_name": "Python 3 (ipykernel)",
   "language": "python",
   "name": "python3"
  },
  "language_info": {
   "codemirror_mode": {
    "name": "ipython",
    "version": 3
   },
   "file_extension": ".py",
   "mimetype": "text/x-python",
   "name": "python",
   "nbconvert_exporter": "python",
   "pygments_lexer": "ipython3",
   "version": "3.9.7"
  }
 },
 "nbformat": 4,
 "nbformat_minor": 1
}
