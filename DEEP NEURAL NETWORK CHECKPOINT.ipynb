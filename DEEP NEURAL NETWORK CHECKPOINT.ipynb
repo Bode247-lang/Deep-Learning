{
 "cells": [
  {
   "cell_type": "markdown",
   "metadata": {
    "id": "RecBwR2UWNvf"
   },
   "source": [
    "Checkpoint Objective\n",
    "This dataset contains banking marketing campaign data and we can use it to optimize marketing campaigns to attract more customers to term deposit subscription.\n",
    "\n",
    "What is a Term Deposit?\n",
    "\n",
    "A Term deposit is a deposit that a bank or a financial institution offers with a fixed rate (often better than just opening deposit account) in which your money will be returned back at a specific maturity time.\n",
    "\n",
    "dataset link : https://drive.google.com/file/d/1kVnOzZ84avAAY1mA2I_Oh6FH3UPEb-_3/view\n",
    "\n",
    "Instructions\n",
    "In this assignment you will have to take the following steps:\n",
    "\n",
    "Import your dataset and perform initial analysis and visualization\n",
    "\n",
    "Clean the data\n",
    "\n",
    "Build a  deep learning network to predict the marketing campaign outcome (\"deposit\" either Yes or No)\n",
    "\n",
    "You have to submit a jupyter notebook file.\n",
    "\n",
    "Link : Get started with Google Colab\n",
    "\n",
    "Please make sure it's a public shareable link."
   ]
  },
  {
   "cell_type": "markdown",
   "metadata": {
    "id": "GQfSokerW-Zl"
   },
   "source": [
    "# Import Dataset and Perform Initial Analysis and Visualization"
   ]
  },
  {
   "cell_type": "code",
   "execution_count": 1,
   "metadata": {
    "id": "sZWvdS54XGLp"
   },
   "outputs": [],
   "source": [
    "import pandas as pd\n",
    "import matplotlib.pyplot as plt"
   ]
  },
  {
   "cell_type": "code",
   "execution_count": 2,
   "metadata": {
    "colab": {
     "base_uri": "https://localhost:8080/"
    },
    "id": "gq3slxqhX4eH",
    "outputId": "42f0ed0e-f69b-4342-d8c5-4d3f0805a876"
   },
   "outputs": [
    {
     "ename": "ModuleNotFoundError",
     "evalue": "No module named 'google.colab'",
     "output_type": "error",
     "traceback": [
      "\u001b[1;31m---------------------------------------------------------------------------\u001b[0m",
      "\u001b[1;31mModuleNotFoundError\u001b[0m                       Traceback (most recent call last)",
      "\u001b[1;32m~\\AppData\\Local\\Temp/ipykernel_15024/3834160430.py\u001b[0m in \u001b[0;36m<module>\u001b[1;34m\u001b[0m\n\u001b[0;32m      1\u001b[0m \u001b[1;31m#import dataset\u001b[0m\u001b[1;33m\u001b[0m\u001b[1;33m\u001b[0m\u001b[0m\n\u001b[1;32m----> 2\u001b[1;33m \u001b[1;32mfrom\u001b[0m \u001b[0mgoogle\u001b[0m\u001b[1;33m.\u001b[0m\u001b[0mcolab\u001b[0m \u001b[1;32mimport\u001b[0m \u001b[0mdrive\u001b[0m\u001b[1;33m\u001b[0m\u001b[1;33m\u001b[0m\u001b[0m\n\u001b[0m\u001b[0;32m      3\u001b[0m \u001b[0mdrive\u001b[0m\u001b[1;33m.\u001b[0m\u001b[0mmount\u001b[0m\u001b[1;33m(\u001b[0m\u001b[1;34m'/content/drive'\u001b[0m\u001b[1;33m)\u001b[0m\u001b[1;33m\u001b[0m\u001b[1;33m\u001b[0m\u001b[0m\n",
      "\u001b[1;31mModuleNotFoundError\u001b[0m: No module named 'google.colab'"
     ]
    }
   ],
   "source": [
    "#import dataset\n",
    "from google.colab import drive\n",
    "drive.mount('/content/drive')"
   ]
  },
  {
   "cell_type": "code",
   "execution_count": null,
   "metadata": {
    "id": "EZ4KkTSBXI4s"
   },
   "outputs": [],
   "source": [
    "# Load the dataset\n",
    "data = pd.read_csv('/content/drive/MyDrive/Untitled folder/DATASETS/bank.csv')"
   ]
  },
  {
   "cell_type": "code",
   "execution_count": null,
   "metadata": {
    "colab": {
     "base_uri": "https://localhost:8080/"
    },
    "id": "dPiEHWu7XNuy",
    "outputId": "fb9372e4-4603-4e11-fc1d-dbc97cd6ce22"
   },
   "outputs": [],
   "source": [
    "# Initial exploration\n",
    "print(data.head())  # View the first few rows\n",
    "print(data.info())  # Get information about the dataset (data types, null values, etc.)\n",
    "print(data.describe())  # Summary statistics for numerical columns\n"
   ]
  },
  {
   "cell_type": "code",
   "execution_count": null,
   "metadata": {
    "colab": {
     "base_uri": "https://localhost:8080/",
     "height": 853
    },
    "id": "DNCC92kKeNkr",
    "outputId": "ed951a58-8444-453e-b763-687430850ec5"
   },
   "outputs": [],
   "source": [
    "# Visualization (for example)\n",
    "# Plot histograms for numeric columns\n",
    "data.hist(figsize=(12, 10))\n",
    "plt.show()"
   ]
  },
  {
   "cell_type": "code",
   "execution_count": null,
   "metadata": {
    "colab": {
     "base_uri": "https://localhost:8080/",
     "height": 574
    },
    "id": "y6xLVDGvWGuE",
    "outputId": "6daa6d52-ac19-4dce-a5dc-d02be79bd800"
   },
   "outputs": [],
   "source": [
    "# Visualize categorical variables (e.g., 'deposit')\n",
    "plt.figure(figsize=(8, 6))\n",
    "data['deposit'].value_counts().plot(kind='bar')\n",
    "plt.xlabel('Deposit')\n",
    "plt.ylabel('Count')\n",
    "plt.title('Deposit Distribution')\n",
    "plt.show()\n"
   ]
  },
  {
   "cell_type": "code",
   "execution_count": null,
   "metadata": {
    "colab": {
     "base_uri": "https://localhost:8080/",
     "height": 220
    },
    "id": "NKFA40OTYdgy",
    "outputId": "e849a6a5-4247-4493-cf1b-331d7f7246c1"
   },
   "outputs": [],
   "source": [
    "data.plot(kind='density', subplots=True, sharex=False, layout=(12,3), figsize=(15,10))\n",
    "plt.show()"
   ]
  },
  {
   "cell_type": "code",
   "execution_count": null,
   "metadata": {
    "colab": {
     "base_uri": "https://localhost:8080/",
     "height": 893
    },
    "id": "uCranOlFYndL",
    "outputId": "c76efbcc-5a1d-4a68-f077-45bf446e1a3b"
   },
   "outputs": [],
   "source": [
    "import seaborn as sns\n",
    "plt.figure(figsize=(10, 10))\n",
    "sns.heatmap(data.corr(), annot=True)\n",
    "plt.show()"
   ]
  },
  {
   "cell_type": "markdown",
   "metadata": {
    "id": "7z2f8GPXYExu"
   },
   "source": [
    "# Clean the Data"
   ]
  },
  {
   "cell_type": "code",
   "execution_count": null,
   "metadata": {
    "colab": {
     "base_uri": "https://localhost:8080/"
    },
    "id": "kxvJrxXVYUyB",
    "outputId": "25083d28-1ceb-4902-99ef-bcb9a89f6be8"
   },
   "outputs": [],
   "source": [
    "# Handling missing values\n",
    "data.isnull().sum()  # Check for missing values"
   ]
  },
  {
   "cell_type": "code",
   "execution_count": null,
   "metadata": {
    "colab": {
     "base_uri": "https://localhost:8080/"
    },
    "id": "OJp96OwrYwVc",
    "outputId": "e9f1f10c-a09d-4026-b076-e715d80a6294"
   },
   "outputs": [],
   "source": [
    "\n",
    "# Remove duplicates, if they exist\n",
    "data.duplicated().sum()\n",
    "# Remove duplicates\n",
    "#df.drop_duplicates(inplace=True)\n",
    "\n",
    "# The dataframe has no duplicated rows\n"
   ]
  },
  {
   "cell_type": "code",
   "execution_count": null,
   "metadata": {
    "colab": {
     "base_uri": "https://localhost:8080/"
    },
    "id": "Q-YYIqEMfJQu",
    "outputId": "54e65384-7b62-44c4-ea2f-0c52a8243c16"
   },
   "outputs": [],
   "source": [
    "# List of columns with 'object' dtype\n",
    "object_columns = data.select_dtypes(include=['object']).columns.tolist()\n",
    "\n",
    "print(\"Columns with 'object' dtype:\")\n",
    "print(object_columns)"
   ]
  },
  {
   "cell_type": "code",
   "execution_count": null,
   "metadata": {
    "id": "6titJ1FDYz9P"
   },
   "outputs": [],
   "source": [
    "# Encode categorical features\n",
    "#I intend to replace the original categorical columns with their encoded values.\n",
    "\n",
    "from sklearn.preprocessing import LabelEncoder\n",
    "label_encoder = LabelEncoder()\n",
    "categorical_columns = [ 'job','marital', 'education', 'default', 'housing', 'loan', 'contact', 'month', 'poutcome', 'deposit']\n",
    "\n",
    "\n",
    "for col in categorical_columns:\n",
    "    data[col] = label_encoder.fit_transform(data[col])"
   ]
  },
  {
   "cell_type": "code",
   "execution_count": null,
   "metadata": {
    "colab": {
     "base_uri": "https://localhost:8080/"
    },
    "id": "WZOnrzxHfZNn",
    "outputId": "136b117e-ffbf-4358-cb0e-b001fec29365"
   },
   "outputs": [],
   "source": [
    "data.info()"
   ]
  },
  {
   "cell_type": "code",
   "execution_count": null,
   "metadata": {
    "id": "YsDlraLaY43y"
   },
   "outputs": [],
   "source": [
    "# Split the data into features and target variable\n",
    "X = data.drop('deposit', axis=1)\n",
    "y = data['deposit']"
   ]
  },
  {
   "cell_type": "code",
   "execution_count": null,
   "metadata": {
    "id": "iT8W6RJtY89Q"
   },
   "outputs": [],
   "source": [
    "# Split the data into training and testing sets\n",
    "from sklearn.model_selection import train_test_split\n",
    "X_train, X_test, y_train, y_test = train_test_split(X, y, test_size=0.2, random_state=42)"
   ]
  },
  {
   "cell_type": "code",
   "execution_count": null,
   "metadata": {
    "id": "V4_aTF5PYG7A"
   },
   "outputs": [],
   "source": [
    "\n",
    "# Scale the data\n",
    "from sklearn.preprocessing import StandardScaler\n",
    "scaler = StandardScaler()\n",
    "X_train_scaled = scaler.fit_transform(X_train)\n",
    "X_test_scaled = scaler.transform(X_test)\n"
   ]
  },
  {
   "cell_type": "markdown",
   "metadata": {
    "id": "0fxjH6nUZRHZ"
   },
   "source": [
    "#  Build a Deep Learning Network"
   ]
  },
  {
   "cell_type": "code",
   "execution_count": null,
   "metadata": {
    "id": "UvPLJaFWZ87X"
   },
   "outputs": [],
   "source": [
    "from tensorflow.keras.models import Sequential\n",
    "from tensorflow.keras.layers import Dense, Dropout\n"
   ]
  },
  {
   "cell_type": "code",
   "execution_count": null,
   "metadata": {
    "id": "cMROevW-Z_mH"
   },
   "outputs": [],
   "source": [
    "# Create a Sequential model\n",
    "model = Sequential()"
   ]
  },
  {
   "cell_type": "code",
   "execution_count": null,
   "metadata": {
    "id": "fwpU7HH8aCcX"
   },
   "outputs": [],
   "source": [
    "# Add layers to the model\n",
    "model.add(Dense(128, activation='relu', input_shape=(X_train_scaled.shape[1],)))\n",
    "model.add(Dropout(0.2))\n",
    "model.add(Dense(64, activation='relu'))\n",
    "model.add(Dropout(0.2))\n",
    "model.add(Dense(1, activation='sigmoid'))"
   ]
  },
  {
   "cell_type": "code",
   "execution_count": null,
   "metadata": {
    "id": "OQ4MdXeJaGSL"
   },
   "outputs": [],
   "source": [
    "# Compile the model\n",
    "model.compile(optimizer='adam', loss='binary_crossentropy', metrics=['accuracy'])"
   ]
  },
  {
   "cell_type": "code",
   "execution_count": null,
   "metadata": {
    "colab": {
     "base_uri": "https://localhost:8080/"
    },
    "id": "ej5_slnPZzmB",
    "outputId": "3a85b2b9-11c9-4737-d56e-2d408412897a"
   },
   "outputs": [],
   "source": [
    "\n",
    "# Train the model\n",
    "history = model.fit(X_train_scaled, y_train, epochs=20, batch_size=32, validation_data=(X_test_scaled, y_test))\n"
   ]
  },
  {
   "cell_type": "markdown",
   "metadata": {
    "id": "If4GGZHtafbE"
   },
   "source": [
    "# Prediction code"
   ]
  },
  {
   "cell_type": "code",
   "execution_count": null,
   "metadata": {
    "colab": {
     "base_uri": "https://localhost:8080/"
    },
    "id": "-PMKilivaj2E",
    "outputId": "66493f45-1513-4c05-bcc8-205c5f67d5f9"
   },
   "outputs": [],
   "source": [
    "# Predictions using the trained model\n",
    "predictions = model.predict(X_test_scaled)"
   ]
  },
  {
   "cell_type": "code",
   "execution_count": null,
   "metadata": {
    "id": "CLY6KMsPankk"
   },
   "outputs": [],
   "source": [
    "# Converting probabilities to binary outcomes\n",
    "threshold = 0.5  # You can adjust this threshold as needed\n",
    "binary_predictions = (predictions > threshold).astype('int')"
   ]
  },
  {
   "cell_type": "code",
   "execution_count": null,
   "metadata": {
    "colab": {
     "base_uri": "https://localhost:8080/"
    },
    "id": "xIKJxPCIaiT9",
    "outputId": "083de27a-6c46-4165-bb94-0c0837bd02cc"
   },
   "outputs": [],
   "source": [
    "# Evaluate the model\n",
    "from sklearn.metrics import accuracy_score, classification_report, confusion_matrix\n",
    "\n",
    "print(\"Accuracy:\", accuracy_score(y_test, binary_predictions))\n",
    "print(\"\\nClassification Report:\")\n",
    "print(classification_report(y_test, binary_predictions))\n",
    "print(\"\\nConfusion Matrix:\")\n",
    "print(confusion_matrix(y_test, binary_predictions))\n"
   ]
  },
  {
   "cell_type": "code",
   "execution_count": null,
   "metadata": {
    "id": "yHtrIMuGkDQt"
   },
   "outputs": [],
   "source": []
  }
 ],
 "metadata": {
  "colab": {
   "provenance": []
  },
  "kernelspec": {
   "display_name": "Python 3 (ipykernel)",
   "language": "python",
   "name": "python3"
  },
  "language_info": {
   "codemirror_mode": {
    "name": "ipython",
    "version": 3
   },
   "file_extension": ".py",
   "mimetype": "text/x-python",
   "name": "python",
   "nbconvert_exporter": "python",
   "pygments_lexer": "ipython3",
   "version": "3.9.7"
  }
 },
 "nbformat": 4,
 "nbformat_minor": 1
}
