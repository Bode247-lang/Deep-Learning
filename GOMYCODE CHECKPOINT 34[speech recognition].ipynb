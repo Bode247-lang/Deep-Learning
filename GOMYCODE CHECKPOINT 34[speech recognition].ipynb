{
 "cells": [
  {
   "cell_type": "markdown",
   "metadata": {
    "id": "aNrxEL6Mb2z2"
   },
   "source": [
    "In this exercise, you will improve the Speech Recognition App by adding some features to enhance its functionality.\n",
    "\n",
    "Instructions:\n",
    "\n",
    "Include a new option for users to select the speech recognition API they want to use.\n",
    "\n",
    "In addition to Google Speech Recognition, consider other APIs available in the provided libraries.\n",
    "\n",
    "Improve the error handling in the transcribe_speech() function to provide more meaningful error messages to the user.\n",
    "\n",
    "Add a feature to allow the user to save the transcribed text to a file.\n",
    "\n",
    "Add a feature to allow the user to choose the language they are speaking in, and configure the speech recognition API to use that language.\n",
    "\n",
    "Add a feature to allow the user to pause and resume the speech recognition process.\n",
    "\n",
    "Note:\n",
    "\n",
    "When adding new features, be sure to test the app thoroughly to ensure that it is working correctly. Also, consider the user experience and design the app to be intuitive and easy to use. Finally, if you encounter any issues or challenges, don't hesitate to consult the documentation or seek help from the community"
   ]
  },
  {
   "cell_type": "code",
   "execution_count": 1,
   "metadata": {
    "colab": {
     "base_uri": "https://localhost:8080/"
    },
    "executionInfo": {
     "elapsed": 10720,
     "status": "ok",
     "timestamp": 1703654583496,
     "user": {
      "displayName": "chukwuma nwanna",
      "userId": "04808393998514574229"
     },
     "user_tz": -60
    },
    "id": "SOv9QqEDuZBO",
    "outputId": "cdfbc2b3-c146-489a-9a49-3956c9e0e3ab"
   },
   "outputs": [
    {
     "name": "stdout",
     "output_type": "stream",
     "text": [
      "Requirement already satisfied: streamlit in c:\\users\\user\\anaconda3\\lib\\site-packages (1.12.0)\n",
      "Requirement already satisfied: tornado>=5.0 in c:\\users\\user\\anaconda3\\lib\\site-packages (from streamlit) (6.1)\n",
      "Requirement already satisfied: semver in c:\\users\\user\\anaconda3\\lib\\site-packages (from streamlit) (3.0.2)\n",
      "Requirement already satisfied: typing-extensions>=3.10.0.0 in c:\\users\\user\\anaconda3\\lib\\site-packages (from streamlit) (4.12.2)\n",
      "Requirement already satisfied: blinker>=1.0.0 in c:\\users\\user\\anaconda3\\lib\\site-packages (from streamlit) (1.8.2)\n",
      "Requirement already satisfied: cachetools>=4.0 in c:\\users\\user\\anaconda3\\lib\\site-packages (from streamlit) (5.4.0)\n",
      "Requirement already satisfied: pillow>=6.2.0 in c:\\users\\user\\anaconda3\\lib\\site-packages (from streamlit) (8.4.0)\n",
      "Requirement already satisfied: pympler>=0.9 in c:\\users\\user\\anaconda3\\lib\\site-packages (from streamlit) (1.1)\n",
      "Requirement already satisfied: pandas>=0.21.0 in c:\\users\\user\\anaconda3\\lib\\site-packages (from streamlit) (1.3.4)\n",
      "Requirement already satisfied: pydeck>=0.1.dev5 in c:\\users\\user\\anaconda3\\lib\\site-packages (from streamlit) (0.9.1)\n",
      "Requirement already satisfied: pyarrow>=4.0 in c:\\users\\user\\anaconda3\\lib\\site-packages (from streamlit) (16.1.0)\n",
      "Requirement already satisfied: tzlocal>=1.1 in c:\\users\\user\\anaconda3\\lib\\site-packages (from streamlit) (5.2)\n",
      "Requirement already satisfied: altair>=3.2.0 in c:\\users\\user\\anaconda3\\lib\\site-packages (from streamlit) (5.3.0)\n",
      "Requirement already satisfied: protobuf<4,>=3.12 in c:\\users\\user\\anaconda3\\lib\\site-packages (from streamlit) (3.20.3)\n",
      "Requirement already satisfied: packaging>=14.1 in c:\\users\\user\\anaconda3\\lib\\site-packages (from streamlit) (23.2)\n",
      "Requirement already satisfied: rich>=10.11.0 in c:\\users\\user\\anaconda3\\lib\\site-packages (from streamlit) (13.7.1)\n",
      "Requirement already satisfied: watchdog in c:\\users\\user\\anaconda3\\lib\\site-packages (from streamlit) (2.1.3)\n",
      "Requirement already satisfied: numpy in c:\\users\\user\\anaconda3\\lib\\site-packages (from streamlit) (1.22.4)\n",
      "Requirement already satisfied: validators>=0.2 in c:\\users\\user\\anaconda3\\lib\\site-packages (from streamlit) (0.33.0)\n",
      "Requirement already satisfied: gitpython!=3.1.19 in c:\\users\\user\\anaconda3\\lib\\site-packages (from streamlit) (3.1.43)\n",
      "Requirement already satisfied: importlib-metadata>=1.4 in c:\\users\\user\\anaconda3\\lib\\site-packages (from streamlit) (4.8.1)\n",
      "Requirement already satisfied: toml in c:\\users\\user\\anaconda3\\lib\\site-packages (from streamlit) (0.10.2)\n",
      "Requirement already satisfied: python-dateutil in c:\\users\\user\\anaconda3\\lib\\site-packages (from streamlit) (2.8.2)\n",
      "Requirement already satisfied: click>=7.0 in c:\\users\\user\\anaconda3\\lib\\site-packages (from streamlit) (8.0.3)\n",
      "Requirement already satisfied: requests>=2.4 in c:\\users\\user\\anaconda3\\lib\\site-packages (from streamlit) (2.26.0)\n",
      "Requirement already satisfied: toolz in c:\\users\\user\\anaconda3\\lib\\site-packages (from altair>=3.2.0->streamlit) (0.11.1)\n",
      "Requirement already satisfied: jsonschema>=3.0 in c:\\users\\user\\anaconda3\\lib\\site-packages (from altair>=3.2.0->streamlit) (3.2.0)\n",
      "Requirement already satisfied: jinja2 in c:\\users\\user\\anaconda3\\lib\\site-packages (from altair>=3.2.0->streamlit) (2.11.3)\n",
      "Requirement already satisfied: colorama in c:\\users\\user\\anaconda3\\lib\\site-packages (from click>=7.0->streamlit) (0.4.4)\n",
      "Requirement already satisfied: gitdb<5,>=4.0.1 in c:\\users\\user\\anaconda3\\lib\\site-packages (from gitpython!=3.1.19->streamlit) (4.0.11)\n",
      "Requirement already satisfied: smmap<6,>=3.0.1 in c:\\users\\user\\anaconda3\\lib\\site-packages (from gitdb<5,>=4.0.1->gitpython!=3.1.19->streamlit) (5.0.1)\n",
      "Requirement already satisfied: zipp>=0.5 in c:\\users\\user\\anaconda3\\lib\\site-packages (from importlib-metadata>=1.4->streamlit) (3.6.0)\n",
      "Requirement already satisfied: pyrsistent>=0.14.0 in c:\\users\\user\\anaconda3\\lib\\site-packages (from jsonschema>=3.0->altair>=3.2.0->streamlit) (0.18.0)\n",
      "Requirement already satisfied: six>=1.11.0 in c:\\users\\user\\anaconda3\\lib\\site-packages (from jsonschema>=3.0->altair>=3.2.0->streamlit) (1.16.0)\n",
      "Requirement already satisfied: setuptools in c:\\users\\user\\anaconda3\\lib\\site-packages (from jsonschema>=3.0->altair>=3.2.0->streamlit) (58.0.4)\n",
      "Requirement already satisfied: attrs>=17.4.0 in c:\\users\\user\\anaconda3\\lib\\site-packages (from jsonschema>=3.0->altair>=3.2.0->streamlit) (21.2.0)\n",
      "Requirement already satisfied: pytz>=2017.3 in c:\\users\\user\\anaconda3\\lib\\site-packages (from pandas>=0.21.0->streamlit) (2021.3)\n",
      "Requirement already satisfied: MarkupSafe>=0.23 in c:\\users\\user\\anaconda3\\lib\\site-packages (from jinja2->altair>=3.2.0->streamlit) (1.1.1)\n",
      "Requirement already satisfied: pywin32>=226 in c:\\users\\user\\anaconda3\\lib\\site-packages (from pympler>=0.9->streamlit) (228)\n",
      "Requirement already satisfied: certifi>=2017.4.17 in c:\\users\\user\\anaconda3\\lib\\site-packages (from requests>=2.4->streamlit) (2024.6.2)\n",
      "Requirement already satisfied: idna<4,>=2.5 in c:\\users\\user\\anaconda3\\lib\\site-packages (from requests>=2.4->streamlit) (3.2)\n",
      "Requirement already satisfied: urllib3<1.27,>=1.21.1 in c:\\users\\user\\anaconda3\\lib\\site-packages (from requests>=2.4->streamlit) (1.26.7)\n",
      "Requirement already satisfied: charset-normalizer~=2.0.0 in c:\\users\\user\\anaconda3\\lib\\site-packages (from requests>=2.4->streamlit) (2.0.4)\n",
      "Requirement already satisfied: markdown-it-py>=2.2.0 in c:\\users\\user\\anaconda3\\lib\\site-packages (from rich>=10.11.0->streamlit) (3.0.0)\n",
      "Requirement already satisfied: pygments<3.0.0,>=2.13.0 in c:\\users\\user\\anaconda3\\lib\\site-packages (from rich>=10.11.0->streamlit) (2.18.0)\n",
      "Requirement already satisfied: mdurl~=0.1 in c:\\users\\user\\anaconda3\\lib\\site-packages (from markdown-it-py>=2.2.0->rich>=10.11.0->streamlit) (0.1.2)\n",
      "Requirement already satisfied: tzdata in c:\\users\\user\\anaconda3\\lib\\site-packages (from tzlocal>=1.1->streamlit) (2024.1)\n"
     ]
    }
   ],
   "source": [
    "!pip install streamlit"
   ]
  },
  {
   "cell_type": "code",
   "execution_count": 2,
   "metadata": {
    "colab": {
     "base_uri": "https://localhost:8080/"
    },
    "executionInfo": {
     "elapsed": 1552,
     "status": "ok",
     "timestamp": 1703654621661,
     "user": {
      "displayName": "chukwuma nwanna",
      "userId": "04808393998514574229"
     },
     "user_tz": -60
    },
    "id": "u30h-IHwuk-f",
    "outputId": "eb296eb9-7a67-425d-db04-efcc73578ecd"
   },
   "outputs": [
    {
     "name": "stderr",
     "output_type": "stream",
     "text": [
      "ERROR: Could not find a version that satisfies the requirement speech_recognition (from versions: none)\n",
      "ERROR: No matching distribution found for speech_recognition\n"
     ]
    }
   ],
   "source": [
    "!pip install speech_recognition"
   ]
  },
  {
   "cell_type": "code",
   "execution_count": 3,
   "metadata": {
    "colab": {
     "base_uri": "https://localhost:8080/",
     "height": 346
    },
    "executionInfo": {
     "elapsed": 1395,
     "status": "error",
     "timestamp": 1703654593215,
     "user": {
      "displayName": "chukwuma nwanna",
      "userId": "04808393998514574229"
     },
     "user_tz": -60
    },
    "id": "TeT_6ddmZyDT",
    "outputId": "62e32177-43bf-4568-92e1-dd11934a5294"
   },
   "outputs": [
    {
     "name": "stderr",
     "output_type": "stream",
     "text": [
      "2024-08-08 22:32:44.506 INFO    numexpr.utils: NumExpr defaulting to 4 threads.\n"
     ]
    },
    {
     "ename": "ModuleNotFoundError",
     "evalue": "No module named 'altair.vegalite.v4'",
     "output_type": "error",
     "traceback": [
      "\u001b[1;31m---------------------------------------------------------------------------\u001b[0m",
      "\u001b[1;31mModuleNotFoundError\u001b[0m                       Traceback (most recent call last)",
      "\u001b[1;32m~\\AppData\\Local\\Temp/ipykernel_8268/74544341.py\u001b[0m in \u001b[0;36m<module>\u001b[1;34m\u001b[0m\n\u001b[1;32m----> 1\u001b[1;33m \u001b[1;32mimport\u001b[0m \u001b[0mstreamlit\u001b[0m \u001b[1;32mas\u001b[0m \u001b[0mst\u001b[0m\u001b[1;33m\u001b[0m\u001b[1;33m\u001b[0m\u001b[0m\n\u001b[0m\u001b[0;32m      2\u001b[0m \u001b[1;32mimport\u001b[0m \u001b[0mspeech_recognition\u001b[0m \u001b[1;32mas\u001b[0m \u001b[0msr\u001b[0m\u001b[1;33m\u001b[0m\u001b[1;33m\u001b[0m\u001b[0m\n",
      "\u001b[1;32m~\\anaconda3\\lib\\site-packages\\streamlit\\__init__.py\u001b[0m in \u001b[0;36m<module>\u001b[1;34m\u001b[0m\n\u001b[0;32m     68\u001b[0m \u001b[1;32mfrom\u001b[0m \u001b[0mstreamlit\u001b[0m \u001b[1;32mimport\u001b[0m \u001b[0msource_util\u001b[0m \u001b[1;32mas\u001b[0m \u001b[0m_source_util\u001b[0m\u001b[1;33m\u001b[0m\u001b[1;33m\u001b[0m\u001b[0m\n\u001b[0;32m     69\u001b[0m \u001b[1;32mfrom\u001b[0m \u001b[0mstreamlit\u001b[0m \u001b[1;32mimport\u001b[0m \u001b[0mstring_util\u001b[0m \u001b[1;32mas\u001b[0m \u001b[0m_string_util\u001b[0m\u001b[1;33m\u001b[0m\u001b[1;33m\u001b[0m\u001b[0m\n\u001b[1;32m---> 70\u001b[1;33m \u001b[1;32mfrom\u001b[0m \u001b[0mstreamlit\u001b[0m\u001b[1;33m.\u001b[0m\u001b[0mdelta_generator\u001b[0m \u001b[1;32mimport\u001b[0m \u001b[0mDeltaGenerator\u001b[0m \u001b[1;32mas\u001b[0m \u001b[0m_DeltaGenerator\u001b[0m\u001b[1;33m\u001b[0m\u001b[1;33m\u001b[0m\u001b[0m\n\u001b[0m\u001b[0;32m     71\u001b[0m from streamlit.runtime.scriptrunner import (\n\u001b[0;32m     72\u001b[0m     \u001b[0madd_script_run_ctx\u001b[0m \u001b[1;32mas\u001b[0m \u001b[0m_add_script_run_ctx\u001b[0m\u001b[1;33m,\u001b[0m\u001b[1;33m\u001b[0m\u001b[1;33m\u001b[0m\u001b[0m\n",
      "\u001b[1;32m~\\anaconda3\\lib\\site-packages\\streamlit\\delta_generator.py\u001b[0m in \u001b[0;36m<module>\u001b[1;34m\u001b[0m\n\u001b[0;32m     88\u001b[0m \u001b[1;31m# We select between them with the DataFrameElementSelectorMixin.\u001b[0m\u001b[1;33m\u001b[0m\u001b[1;33m\u001b[0m\u001b[0m\n\u001b[0;32m     89\u001b[0m \u001b[1;32mfrom\u001b[0m \u001b[0mstreamlit\u001b[0m\u001b[1;33m.\u001b[0m\u001b[0melements\u001b[0m\u001b[1;33m.\u001b[0m\u001b[0marrow\u001b[0m \u001b[1;32mimport\u001b[0m \u001b[0mArrowMixin\u001b[0m\u001b[1;33m\u001b[0m\u001b[1;33m\u001b[0m\u001b[0m\n\u001b[1;32m---> 90\u001b[1;33m \u001b[1;32mfrom\u001b[0m \u001b[0mstreamlit\u001b[0m\u001b[1;33m.\u001b[0m\u001b[0melements\u001b[0m\u001b[1;33m.\u001b[0m\u001b[0marrow_altair\u001b[0m \u001b[1;32mimport\u001b[0m \u001b[0mArrowAltairMixin\u001b[0m\u001b[1;33m\u001b[0m\u001b[1;33m\u001b[0m\u001b[0m\n\u001b[0m\u001b[0;32m     91\u001b[0m \u001b[1;32mfrom\u001b[0m \u001b[0mstreamlit\u001b[0m\u001b[1;33m.\u001b[0m\u001b[0melements\u001b[0m\u001b[1;33m.\u001b[0m\u001b[0marrow_vega_lite\u001b[0m \u001b[1;32mimport\u001b[0m \u001b[0mArrowVegaLiteMixin\u001b[0m\u001b[1;33m\u001b[0m\u001b[1;33m\u001b[0m\u001b[0m\n\u001b[0;32m     92\u001b[0m \u001b[1;32mfrom\u001b[0m \u001b[0mstreamlit\u001b[0m\u001b[1;33m.\u001b[0m\u001b[0melements\u001b[0m\u001b[1;33m.\u001b[0m\u001b[0mlegacy_data_frame\u001b[0m \u001b[1;32mimport\u001b[0m \u001b[0mLegacyDataFrameMixin\u001b[0m\u001b[1;33m\u001b[0m\u001b[1;33m\u001b[0m\u001b[0m\n",
      "\u001b[1;32m~\\anaconda3\\lib\\site-packages\\streamlit\\elements\\arrow_altair.py\u001b[0m in \u001b[0;36m<module>\u001b[1;34m\u001b[0m\n\u001b[0;32m     33\u001b[0m \u001b[1;32mimport\u001b[0m \u001b[0maltair\u001b[0m \u001b[1;32mas\u001b[0m \u001b[0malt\u001b[0m\u001b[1;33m\u001b[0m\u001b[1;33m\u001b[0m\u001b[0m\n\u001b[0;32m     34\u001b[0m \u001b[1;32mimport\u001b[0m \u001b[0mpandas\u001b[0m \u001b[1;32mas\u001b[0m \u001b[0mpd\u001b[0m\u001b[1;33m\u001b[0m\u001b[1;33m\u001b[0m\u001b[0m\n\u001b[1;32m---> 35\u001b[1;33m \u001b[1;32mfrom\u001b[0m \u001b[0maltair\u001b[0m\u001b[1;33m.\u001b[0m\u001b[0mvegalite\u001b[0m\u001b[1;33m.\u001b[0m\u001b[0mv4\u001b[0m\u001b[1;33m.\u001b[0m\u001b[0mapi\u001b[0m \u001b[1;32mimport\u001b[0m \u001b[0mChart\u001b[0m\u001b[1;33m\u001b[0m\u001b[1;33m\u001b[0m\u001b[0m\n\u001b[0m\u001b[0;32m     36\u001b[0m \u001b[1;32mfrom\u001b[0m \u001b[0mpandas\u001b[0m\u001b[1;33m.\u001b[0m\u001b[0mapi\u001b[0m\u001b[1;33m.\u001b[0m\u001b[0mtypes\u001b[0m \u001b[1;32mimport\u001b[0m \u001b[0minfer_dtype\u001b[0m\u001b[1;33m\u001b[0m\u001b[1;33m\u001b[0m\u001b[0m\n\u001b[0;32m     37\u001b[0m \u001b[1;33m\u001b[0m\u001b[0m\n",
      "\u001b[1;31mModuleNotFoundError\u001b[0m: No module named 'altair.vegalite.v4'"
     ]
    }
   ],
   "source": [
    "import streamlit as st\n",
    "import speech_recognition as sr"
   ]
  },
  {
   "cell_type": "markdown",
   "metadata": {
    "id": "sy-tcS6laIWi"
   },
   "source": [
    "This code provides a simple way to build a Speech Recognition application that can transcribe spoken words from a user's microphone.\n",
    " It uses the Streamlit and SpeechRecognition libraries to achieve this functionality. Let me walk you through the steps involved in\n",
    "  building this app.\n",
    "  \n",
    "Step 1:\n",
    "\n",
    "Import Required Libraries\n",
    "The first thing we need to do is import the necessary libraries. We are using Streamlit and SpeechRecognition libraries in this code,\n",
    "so we import them as shown below:"
   ]
  },
  {
   "cell_type": "code",
   "execution_count": null,
   "metadata": {
    "id": "bc1R6l5baPi4"
   },
   "outputs": [],
   "source": [
    "import streamlit as st\n",
    "import speech_recognition as sr"
   ]
  },
  {
   "cell_type": "markdown",
   "metadata": {
    "id": "JYct8eaZaykh"
   },
   "source": [
    "Step 2:\n",
    "Define the Speech Recognition Function\n",
    "\n",
    "Next, we define a function named transcribe_speech() that will handle the speech recognition process.\n",
    "\n",
    "\n",
    "In this function, we first initialize a Recognizer class from the SpeechRecognition library. We then use the Microphone class from the same library to access the user's microphone as the audio source.\n",
    "The function then uses the listen() method of the Recognizer class to capture the user's speech and store it in the audio_text variable.\n",
    "After that, we try to transcribe the speech using the recognize_google() method from the Recognizer class. If the transcription is successful, it returns the text, otherwise it returns an error message.\n"
   ]
  },
  {
   "cell_type": "code",
   "execution_count": null,
   "metadata": {
    "id": "jdpZxCAuaegq"
   },
   "outputs": [],
   "source": [
    "\n",
    "def transcribe_speech(selected_api, selected_language):\n",
    "    r = sr.Recognizer()\n",
    "\n",
    "    with sr.Microphone() as source:\n",
    "        st.info(\"Speak now...\")\n",
    "        if selected_language:\n",
    "            r.adjust_for_ambient_noise(source, duration=0.5)\n",
    "            r.energy_threshold = 4000\n",
    "\n",
    "        audio_text = r.listen(source)\n",
    "\n",
    "        try:\n",
    "            if selected_api == \"Google Speech Recognition\":\n",
    "                text = r.recognize_google(audio_text, language=selected_language)\n",
    "            # Add other speech recognition APIs here if available in SpeechRecognition library\n",
    "            # Example:\n",
    "            # elif selected_api == \"Another API\":\n",
    "            #     text = r.recognize_another_api(audio_text, language=selected_language)\n",
    "            else:\n",
    "                return \"Please select a valid Speech Recognition API.\"\n",
    "\n",
    "            return text\n",
    "        except sr.RequestError:\n",
    "            return \"Sorry, the service is unavailable.\"\n",
    "        except sr.UnknownValueError:\n",
    "            return \"Sorry, speech not recognized.\"\n"
   ]
  },
  {
   "cell_type": "markdown",
   "metadata": {
    "id": "YCPFZ4lfalmH"
   },
   "source": [
    "Step 3:\n",
    "\n",
    "Define the Main Function\n",
    "Now we define a main() function that will handle the user interface of the app. In this function, we use Streamlit to create a simple UI for the app. We add a title and a message asking the user to click on the microphone to start speaking. We also add a button that triggers the speech recognition process.\n",
    "When the user clicks on the button, it calls the transcribe_speech() function to transcribe the speech. The transcription is then displayed on the screen."
   ]
  },
  {
   "cell_type": "code",
   "execution_count": null,
   "metadata": {
    "id": "08srhBX3ZQzs"
   },
   "outputs": [],
   "source": [
    "\n",
    "def main():\n",
    "    st.title(\"Speech Recognition App\")\n",
    "    st.write(\"Click on the microphone to start speaking:\")\n",
    "\n",
    "    selected_api = st.selectbox(\"Select Speech Recognition API\", [\"Google Speech Recognition\"])\n",
    "    selected_language = st.text_input(\"Enter the language code (e.g., en-US, fr-FR, es-ES)\")\n",
    "\n",
    "    if st.button(\"Start Recording\"):\n",
    "        text = transcribe_speech(selected_api, selected_language)\n",
    "        st.write(\"Transcription:\", text)\n",
    "\n",
    "        if text and text != \"Sorry, speech not recognized.\":\n",
    "            save_as_file = st.button(\"Save Transcription to File\")\n",
    "            if save_as_file:\n",
    "                filename = st.text_input(\"Enter file name to save transcription\")\n",
    "                if filename:\n",
    "                    with open(filename + \".txt\", \"w\") as file:\n",
    "                        file.write(text)\n",
    "                        st.success(f\"Transcription saved as {filename}.txt\")\n",
    "\n",
    "if __name__ == \"__main__\":\n",
    "    main()\n"
   ]
  },
  {
   "cell_type": "markdown",
   "metadata": {
    "id": "-vd1W4g8bIE9"
   },
   "source": [
    "Step 4:\n",
    "\n",
    "Run the App\n",
    "Finally, we check if the code is being run as the main program by checking if the name variable is equal to \"main\". If it is, we call the main() function to run the app.\n",
    "This program provides a simple way to build a Speech Recognition application using the Streamlit and SpeechRecognition libraries. It initializes a recognizer class and reads from the microphone as a source. When the user clicks on the microphone button, the transcribe_speech function is triggered, which listens for speech and transcribes it using the Google Speech Recognition API. If the API is unable to recognize the speech, it returns an error message. The transcribed text is then displayed on the user interface. Overall, this code provides a good starting point for building a speech recognition app and can be extended to meet more complex requirements.\n"
   ]
  }
 ],
 "metadata": {
  "colab": {
   "authorship_tag": "ABX9TyNcW+Abr2+vkl8SN6UhinyA",
   "provenance": []
  },
  "kernelspec": {
   "display_name": "Python 3 (ipykernel)",
   "language": "python",
   "name": "python3"
  },
  "language_info": {
   "codemirror_mode": {
    "name": "ipython",
    "version": 3
   },
   "file_extension": ".py",
   "mimetype": "text/x-python",
   "name": "python",
   "nbconvert_exporter": "python",
   "pygments_lexer": "ipython3",
   "version": "3.9.7"
  }
 },
 "nbformat": 4,
 "nbformat_minor": 1
}
