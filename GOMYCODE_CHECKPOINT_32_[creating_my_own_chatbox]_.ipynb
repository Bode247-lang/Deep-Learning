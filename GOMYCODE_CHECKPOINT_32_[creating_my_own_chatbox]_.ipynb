{
 "cells": [
  {
   "cell_type": "markdown",
   "metadata": {
    "id": "RDVvzE2pngin"
   },
   "source": [
    "Checkpoint Objective\n",
    "In this exercise, you will learn how to create your own chatbot by modifying the code provided in the example in our course. You will need to choose a topic that you want your chatbot to be based on and find a text file related to that topic. Then, you will need to modify the code to preprocess the data in the text file and create a chatbot interface that can interact with the user.\n",
    "\n",
    "Instructions\n",
    "Choose a topic: Choose a topic that you are interested in and find a text file related to that topic. You can use websites such as Project Gutenberg to find free text files.\n",
    "Preprocess the data: Modify the preprocess() function in the code provided to preprocess the data in your text file. You may want to modify the stop words list or add additional preprocessing steps to better suit your needs.\n",
    "Define the similarity function: Modify the get_most_relevant_sentence() function to compute the similarity between the user's query and each sentence in your text file. You may want to modify the similarity metric or add additional features to improve the performance of your chatbot.\n",
    "Define the chatbot function: Modify the chatbot() function to return an appropriate response based on the most relevant sentence in your text file.\n",
    "Create a Streamlit app: Use the main() function in the code provided as a template to create a web-based chatbot interface. Prompt the user for a question, call the chatbot() function to get the response, and display it on the screen.\n",
    "Note:\n",
    "\n",
    "To run your code, you need to have the text file in the same directory as your Python script.\n",
    "\n",
    "You may want to test your chatbot with different types of questions to ensure that it is working correctly.\n",
    "\n",
    "You can continue to modify your chatbot to add additional features or improve its performance.\n"
   ]
  },
  {
   "cell_type": "code",
   "execution_count": 3,
   "metadata": {
    "colab": {
     "base_uri": "https://localhost:8080/"
    },
    "id": "zxBdygSXTXLE",
    "outputId": "d0d9f206-6f49-4f84-fb36-55c874b36354"
   },
   "outputs": [
    {
     "name": "stderr",
     "output_type": "stream",
     "text": [
      "[nltk_data] Downloading package punkt to\n",
      "[nltk_data]     C:\\Users\\user\\AppData\\Roaming\\nltk_data...\n",
      "[nltk_data]   Package punkt is already up-to-date!\n",
      "[nltk_data] Downloading package averaged_perceptron_tagger to\n",
      "[nltk_data]     C:\\Users\\user\\AppData\\Roaming\\nltk_data...\n",
      "[nltk_data]   Package averaged_perceptron_tagger is already up-to-\n",
      "[nltk_data]       date!\n"
     ]
    }
   ],
   "source": [
    "import nltk\n",
    "nltk.download('punkt')\n",
    "nltk.download('averaged_perceptron_tagger')\n",
    "from nltk.tokenize import word_tokenize, sent_tokenize\n",
    "from nltk.corpus import stopwords\n",
    "from nltk.stem import WordNetLemmatizer\n",
    "import string\n"
   ]
  },
  {
   "cell_type": "markdown",
   "metadata": {
    "id": "mO8h_XfaTcjm"
   },
   "source": [
    "\n",
    "The ‘nltk’ library is used for natural language processing tasks such as tokenization, lemmatization, and stopword removal. The ‘string’ library is used for string operations. The ‘streamlit’ library is used to create the web-based chatbot interface.\n",
    "The ‘nltk.download()’ function is used to download additional resources needed for the nltk library. In this case, we are downloading the punkt and averaged_perceptron_tagger resources. These resources are needed for tokenization and part-of-speech tagging tasks.\n",
    "Once you have imported the necessary libraries, you can use their functions and classes to perform various NLP tasks and create your chatbot"
   ]
  },
  {
   "cell_type": "markdown",
   "metadata": {
    "id": "diIoKc20UXHE"
   },
   "source": [
    "# Loading and Preprocessing Data:\n",
    "The first step in building a chatbot is to load and preprocess the data that the chatbot will use to generate responses.\n",
    "In this example, we will load a text file and preprocess each sentence in the file to create a corpus that the chatbot can use to\n",
    "find the most relevant response."
   ]
  },
  {
   "cell_type": "code",
   "execution_count": 4,
   "metadata": {
    "colab": {
     "base_uri": "https://localhost:8080/"
    },
    "id": "n4DC9nJ1bax0",
    "outputId": "7dbe39a5-1b30-43e0-a80c-33766abb60d4"
   },
   "outputs": [
    {
     "ename": "ModuleNotFoundError",
     "evalue": "No module named 'google.colab'",
     "output_type": "error",
     "traceback": [
      "\u001b[1;31m---------------------------------------------------------------------------\u001b[0m",
      "\u001b[1;31mModuleNotFoundError\u001b[0m                       Traceback (most recent call last)",
      "\u001b[1;32m~\\AppData\\Local\\Temp/ipykernel_13152/1206209430.py\u001b[0m in \u001b[0;36m<module>\u001b[1;34m\u001b[0m\n\u001b[0;32m      1\u001b[0m \u001b[1;31m#import dataset\u001b[0m\u001b[1;33m\u001b[0m\u001b[1;33m\u001b[0m\u001b[0m\n\u001b[1;32m----> 2\u001b[1;33m \u001b[1;32mfrom\u001b[0m \u001b[0mgoogle\u001b[0m\u001b[1;33m.\u001b[0m\u001b[0mcolab\u001b[0m \u001b[1;32mimport\u001b[0m \u001b[0mdrive\u001b[0m\u001b[1;33m\u001b[0m\u001b[1;33m\u001b[0m\u001b[0m\n\u001b[0m\u001b[0;32m      3\u001b[0m \u001b[0mdrive\u001b[0m\u001b[1;33m.\u001b[0m\u001b[0mmount\u001b[0m\u001b[1;33m(\u001b[0m\u001b[1;34m'/content/drive'\u001b[0m\u001b[1;33m)\u001b[0m\u001b[1;33m\u001b[0m\u001b[1;33m\u001b[0m\u001b[0m\n",
      "\u001b[1;31mModuleNotFoundError\u001b[0m: No module named 'google.colab'"
     ]
    }
   ],
   "source": [
    "#import dataset\n",
    "from google.colab import drive\n",
    "drive.mount('/content/drive')\n"
   ]
  },
  {
   "cell_type": "code",
   "execution_count": null,
   "metadata": {
    "colab": {
     "base_uri": "https://localhost:8080/"
    },
    "id": "en2fK0y-d2xn",
    "outputId": "24f1e657-8f70-467f-e7b2-1476d97e8d76"
   },
   "outputs": [],
   "source": [
    "\n",
    "nltk.download('stopwords')\n",
    "\n",
    "nltk.download('wordnet')\n",
    "\n"
   ]
  },
  {
   "cell_type": "code",
   "execution_count": null,
   "metadata": {
    "id": "2OfDbI8tdREV"
   },
   "outputs": [],
   "source": [
    "# Load the text file and preprocess the data\n",
    "with open('/content/drive/MyDrive/GOMYCODE/GOMYCODE CHECKPOINT 32 [creating my own chatbox]/health.txt', 'r', encoding='utf-8') as f:\n",
    "    data = f.read().replace('\\n', ' ')\n",
    "# Tokenize the text into sentences\n",
    "sentences = sent_tokenize(data)\n",
    "# Define a function to preprocess each sentence\n",
    "def preprocess(sentence):\n",
    "    # Tokenize the sentence into words\n",
    "    words = word_tokenize(sentence)\n",
    "    # Remove stopwords and punctuation\n",
    "    words = [word.lower() for word in words if word.lower() not in stopwords.words('english') and word not in string.punctuation]\n",
    "    # Lemmatize the words\n",
    "    lemmatizer = WordNetLemmatizer()\n",
    "    words = [lemmatizer.lemmatize(word) for word in words]\n",
    "    return words\n",
    "\n",
    "# Preprocess each sentence in the text\n",
    "corpus = [preprocess(sentence) for sentence in sentences]\n",
    "\n"
   ]
  },
  {
   "cell_type": "markdown",
   "metadata": {
    "id": "QlWM6Cqbg4NO"
   },
   "source": [
    "Loading and Preprocessing Data:\n",
    "First, we open the text file using the open() function and read the contents of the file using the read() method. We replace any newline characters (\\n) with a space character to ensure that each sentence is on a separate line.\n",
    "Next, we use the sent_tokenize() function from the nltk.tokenize module to tokenize the text into individual sentences.\n",
    "We then define a function called preprocess() that takes a sentence as input and performs the following preprocessing steps:\n",
    "1.\tTokenize the sentence into individual words using the word_tokenize() function from the nltk.tokenize module.\n",
    "2.\tRemove stopwords and punctuation from the list of words using a list comprehension. We use the stopwords.words('english') function from the nltk.corpus module to get a list of English stopwords, and the string.punctuation constant to get a string of all punctuation characters.\n",
    "3.\tLemmatize the words using the WordNetLemmatizer() class from the nltk.stem module. Lemmatization is the process of reducing a word to its base form (e.g., \"running\" to \"run\").\n",
    "Additional Resources"
   ]
  },
  {
   "cell_type": "code",
   "execution_count": null,
   "metadata": {
    "id": "I4CwREw1hMmY"
   },
   "outputs": [],
   "source": [
    "# Defining the Similarity Function:\n",
    "# Define a function to find the most relevant sentence given a query\n",
    "def get_most_relevant_sentence(query):\n",
    "    # Preprocess the query\n",
    "    query = preprocess(query)\n",
    "    # Compute the similarity between the query and each sentence in the text\n",
    "    max_similarity = 0\n",
    "    most_relevant_sentence = \"\"\n",
    "    for sentence in corpus:\n",
    "        similarity = len(set(query).intersection(sentence)) / float(len(set(query).union(sentence)))\n",
    "        if similarity > max_similarity:\n",
    "            max_similarity = similarity\n",
    "            most_relevant_sentence = \" \".join(sentence)\n",
    "    return most_relevant_sentence\n",
    "\n"
   ]
  },
  {
   "cell_type": "markdown",
   "metadata": {
    "id": "xKV7B6QLharh"
   },
   "source": [
    "The get_most_relevant_sentence() function is responsible for finding the most relevant sentence in the corpus given a user query.\n",
    " Here's how it works:\n",
    "\n",
    "\n",
    "Defining the Similarity Function:\n",
    "1.\tPreprocess the user query using the preprocess() function defined earlier.\n",
    "2.\tIterate over each sentence in the corpus.\n",
    "3.\tCompute the similarity between the preprocessed query and the current sentence using the Jaccard similarity coefficient. The Jaccard similarity coefficient is a measure of similarity between two sets and is defined as the size of the intersection divided by the size of the union of the sets. In this case, we treat the preprocessed query and each sentence in the corpus as sets of words and compute their Jaccard similarity coefficient.\n",
    "4.\tUpdate the most relevant sentence if the current sentence has a higher similarity score.\n",
    "5.\tReturn the most relevant sentence.\n"
   ]
  },
  {
   "cell_type": "code",
   "execution_count": null,
   "metadata": {
    "id": "8JAsHonQhpfy"
   },
   "outputs": [],
   "source": [
    "# The chatbot Function:\n",
    "def chatbot(question):\n",
    "    # Find the most relevant sentence\n",
    "    most_relevant_sentence = get_most_relevant_sentence(question)\n",
    "    # Return the answer\n",
    "    return most_relevant_sentence"
   ]
  },
  {
   "cell_type": "markdown",
   "metadata": {
    "id": "WWlFYRCJhzKt"
   },
   "source": [
    "The chatbot() function is the main function that takes a user's question as input, processes it using the get_most_relevant_sentence() function, and returns the most relevant sentence as the chatbot's response.\n",
    "Here's how it works:\n",
    "\n",
    "The chatbot Function:\n",
    "1.\tThe chatbot() function takes a user's question as input.\n",
    "2.\tIt calls the get_most_relevant_sentence() function to get the most relevant sentence from the corpus that matches the user's query.\n",
    "3.\tIt returns the most relevant sentence as the chatbot's response."
   ]
  },
  {
   "cell_type": "code",
   "execution_count": null,
   "metadata": {
    "colab": {
     "base_uri": "https://localhost:8080/"
    },
    "id": "n74-Vu5OnX0-",
    "outputId": "63131115-0dc7-439f-c973-89f92d9d7abf"
   },
   "outputs": [],
   "source": [
    "# Creating a Streamlit App :\n",
    "# The main() function creates a Streamlit app that provides a user interface for the chatbot. Here's how it works:\n",
    "# Create a Streamlit app\n",
    "\n",
    "def main():\n",
    "    st.title(\"Chatbot\")\n",
    "    st.write(\"Hello! I'm a chatbot designed by Clifford. Ask me any health related question\")\n",
    "    # Get the user's question\n",
    "    question = st.text_input(\"User:\")\n",
    "    # Create a button to submit the question\n",
    "    if st.button(\"Submit\"):\n",
    "        # Call the chatbot function with the question and display the response\n",
    "        response = chatbot(question)\n",
    "        st.write(\"Chatbot: \" + response)\n",
    "if __name__ == \"__main__\":\n",
    "    main()\n",
    "\n",
    "\n",
    "\n",
    "\n"
   ]
  },
  {
   "cell_type": "markdown",
   "metadata": {
    "id": "hBzNDFW5iUFs"
   },
   "source": [
    "Conclusion :\n",
    "In summary, the code provided defines a simple chatbot using Python's Natural Language Toolkit (NLTK) and Streamlit. The chatbot is designed to provide answers to questions related to a specific topic, as described in a text file.\n",
    "The code consists of several functions:\n",
    "\n",
    "•\tpreprocess(): This function preprocesses a sentence by tokenizing it into words, removing stopwords and punctuation, and lemmatizing the words.\n",
    "\n",
    "•\tget_most_relevant_sentence(): This function finds the most relevant sentence in the text file given a user query. It does this by computing the similarity between the query and each sentence in the text file and returning the sentence with the highest similarity score.\n",
    "\n",
    "•\tchatbot(): This function uses the get_most_relevant_sentence() function to get the most relevant sentence for a given user question and returns it as the chatbot's response.\n",
    "\n",
    "•\tmain(): This function creates a Streamlit app that provides a user interface for the chatbot. It prompts the user to enter a question and displays the chatbot's response on the screen.\n",
    "\n",
    "Overall, the chatbot is a simple example of how NLTK and Streamlit can be used to create a conversational interface for answering questions related to a specific topic. With further development and refinement, the chatbot could be made more robust and capable of answering a wider range of questions.\n",
    "\n",
    "\n"
   ]
  },
  {
   "cell_type": "code",
   "execution_count": null,
   "metadata": {
    "id": "GlEtLfhvijq9"
   },
   "outputs": [],
   "source": []
  }
 ],
 "metadata": {
  "colab": {
   "provenance": []
  },
  "kernelspec": {
   "display_name": "Python 3 (ipykernel)",
   "language": "python",
   "name": "python3"
  },
  "language_info": {
   "codemirror_mode": {
    "name": "ipython",
    "version": 3
   },
   "file_extension": ".py",
   "mimetype": "text/x-python",
   "name": "python",
   "nbconvert_exporter": "python",
   "pygments_lexer": "ipython3",
   "version": "3.9.7"
  }
 },
 "nbformat": 4,
 "nbformat_minor": 1
}
