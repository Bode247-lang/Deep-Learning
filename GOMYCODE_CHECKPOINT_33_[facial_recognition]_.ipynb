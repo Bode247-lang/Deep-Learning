{
 "cells": [
  {
   "cell_type": "markdown",
   "metadata": {
    "id": "HXov3yOrsqCk"
   },
   "source": [
    "# Personalized facial recognition app :\n",
    "\n",
    "This code uses Python and the OpenCV and Streamlit libraries to create a face detection application.\n",
    "The application captures frames from the webcam and uses the Viola-Jones algorithm to detect faces in the frames. It then draws rectangles around the detected faces and displays the frames in a window.\n",
    "Here are the steps to understand and run the code:"
   ]
  },
  {
   "cell_type": "code",
   "execution_count": 4,
   "metadata": {
    "colab": {
     "base_uri": "https://localhost:8080/"
    },
    "id": "csXD0-kQtgxy",
    "outputId": "fd72ef90-2bc4-4b70-ef06-2cef39a65ef0"
   },
   "outputs": [
    {
     "name": "stdout",
     "output_type": "stream",
     "text": [
      "Requirement already satisfied: streamlit in c:\\users\\user\\anaconda3\\lib\\site-packages (1.12.0)\n",
      "Requirement already satisfied: click>=7.0 in c:\\users\\user\\anaconda3\\lib\\site-packages (from streamlit) (8.0.3)\n",
      "Requirement already satisfied: pillow>=6.2.0 in c:\\users\\user\\anaconda3\\lib\\site-packages (from streamlit) (8.4.0)\n",
      "Requirement already satisfied: pydeck>=0.1.dev5 in c:\\users\\user\\anaconda3\\lib\\site-packages (from streamlit) (0.9.1)\n",
      "Requirement already satisfied: numpy in c:\\users\\user\\anaconda3\\lib\\site-packages (from streamlit) (1.22.4)\n",
      "Requirement already satisfied: validators>=0.2 in c:\\users\\user\\anaconda3\\lib\\site-packages (from streamlit) (0.33.0)\n",
      "Requirement already satisfied: pympler>=0.9 in c:\\users\\user\\anaconda3\\lib\\site-packages (from streamlit) (1.1)\n",
      "Requirement already satisfied: typing-extensions>=3.10.0.0 in c:\\users\\user\\anaconda3\\lib\\site-packages (from streamlit) (4.12.2)\n",
      "Requirement already satisfied: blinker>=1.0.0 in c:\\users\\user\\anaconda3\\lib\\site-packages (from streamlit) (1.8.2)\n",
      "Requirement already satisfied: rich>=10.11.0 in c:\\users\\user\\anaconda3\\lib\\site-packages (from streamlit) (13.7.1)\n",
      "Requirement already satisfied: python-dateutil in c:\\users\\user\\anaconda3\\lib\\site-packages (from streamlit) (2.8.2)\n",
      "Requirement already satisfied: pandas>=0.21.0 in c:\\users\\user\\anaconda3\\lib\\site-packages (from streamlit) (1.3.4)\n",
      "Requirement already satisfied: gitpython!=3.1.19 in c:\\users\\user\\anaconda3\\lib\\site-packages (from streamlit) (3.1.43)\n",
      "Requirement already satisfied: tzlocal>=1.1 in c:\\users\\user\\anaconda3\\lib\\site-packages (from streamlit) (5.2)\n",
      "Requirement already satisfied: semver in c:\\users\\user\\anaconda3\\lib\\site-packages (from streamlit) (3.0.2)\n",
      "Requirement already satisfied: watchdog in c:\\users\\user\\anaconda3\\lib\\site-packages (from streamlit) (2.1.3)\n",
      "Requirement already satisfied: toml in c:\\users\\user\\anaconda3\\lib\\site-packages (from streamlit) (0.10.2)\n",
      "Requirement already satisfied: altair>=3.2.0 in c:\\users\\user\\anaconda3\\lib\\site-packages (from streamlit) (5.3.0)\n",
      "Requirement already satisfied: protobuf<4,>=3.12 in c:\\users\\user\\anaconda3\\lib\\site-packages (from streamlit) (3.20.3)\n",
      "Requirement already satisfied: requests>=2.4 in c:\\users\\user\\anaconda3\\lib\\site-packages (from streamlit) (2.26.0)\n",
      "Requirement already satisfied: tornado>=5.0 in c:\\users\\user\\anaconda3\\lib\\site-packages (from streamlit) (6.1)\n",
      "Requirement already satisfied: importlib-metadata>=1.4 in c:\\users\\user\\anaconda3\\lib\\site-packages (from streamlit) (4.8.1)\n",
      "Requirement already satisfied: packaging>=14.1 in c:\\users\\user\\anaconda3\\lib\\site-packages (from streamlit) (23.2)\n",
      "Requirement already satisfied: cachetools>=4.0 in c:\\users\\user\\anaconda3\\lib\\site-packages (from streamlit) (5.4.0)\n",
      "Requirement already satisfied: pyarrow>=4.0 in c:\\users\\user\\anaconda3\\lib\\site-packages (from streamlit) (16.1.0)\n",
      "Requirement already satisfied: jinja2 in c:\\users\\user\\anaconda3\\lib\\site-packages (from altair>=3.2.0->streamlit) (2.11.3)\n",
      "Requirement already satisfied: jsonschema>=3.0 in c:\\users\\user\\anaconda3\\lib\\site-packages (from altair>=3.2.0->streamlit) (3.2.0)\n",
      "Requirement already satisfied: toolz in c:\\users\\user\\anaconda3\\lib\\site-packages (from altair>=3.2.0->streamlit) (0.11.1)\n",
      "Requirement already satisfied: colorama in c:\\users\\user\\anaconda3\\lib\\site-packages (from click>=7.0->streamlit) (0.4.4)\n",
      "Requirement already satisfied: gitdb<5,>=4.0.1 in c:\\users\\user\\anaconda3\\lib\\site-packages (from gitpython!=3.1.19->streamlit) (4.0.11)\n",
      "Requirement already satisfied: smmap<6,>=3.0.1 in c:\\users\\user\\anaconda3\\lib\\site-packages (from gitdb<5,>=4.0.1->gitpython!=3.1.19->streamlit) (5.0.1)\n",
      "Requirement already satisfied: zipp>=0.5 in c:\\users\\user\\anaconda3\\lib\\site-packages (from importlib-metadata>=1.4->streamlit) (3.6.0)\n",
      "Requirement already satisfied: setuptools in c:\\users\\user\\anaconda3\\lib\\site-packages (from jsonschema>=3.0->altair>=3.2.0->streamlit) (58.0.4)\n",
      "Requirement already satisfied: pyrsistent>=0.14.0 in c:\\users\\user\\anaconda3\\lib\\site-packages (from jsonschema>=3.0->altair>=3.2.0->streamlit) (0.18.0)\n",
      "Requirement already satisfied: attrs>=17.4.0 in c:\\users\\user\\anaconda3\\lib\\site-packages (from jsonschema>=3.0->altair>=3.2.0->streamlit) (21.2.0)\n",
      "Requirement already satisfied: six>=1.11.0 in c:\\users\\user\\anaconda3\\lib\\site-packages (from jsonschema>=3.0->altair>=3.2.0->streamlit) (1.16.0)\n",
      "Requirement already satisfied: pytz>=2017.3 in c:\\users\\user\\anaconda3\\lib\\site-packages (from pandas>=0.21.0->streamlit) (2021.3)\n",
      "Requirement already satisfied: MarkupSafe>=0.23 in c:\\users\\user\\anaconda3\\lib\\site-packages (from jinja2->altair>=3.2.0->streamlit) (1.1.1)\n",
      "Requirement already satisfied: pywin32>=226 in c:\\users\\user\\anaconda3\\lib\\site-packages (from pympler>=0.9->streamlit) (228)\n",
      "Requirement already satisfied: certifi>=2017.4.17 in c:\\users\\user\\anaconda3\\lib\\site-packages (from requests>=2.4->streamlit) (2024.6.2)\n",
      "Requirement already satisfied: urllib3<1.27,>=1.21.1 in c:\\users\\user\\anaconda3\\lib\\site-packages (from requests>=2.4->streamlit) (1.26.7)\n",
      "Requirement already satisfied: idna<4,>=2.5 in c:\\users\\user\\anaconda3\\lib\\site-packages (from requests>=2.4->streamlit) (3.2)\n",
      "Requirement already satisfied: charset-normalizer~=2.0.0 in c:\\users\\user\\anaconda3\\lib\\site-packages (from requests>=2.4->streamlit) (2.0.4)\n",
      "Requirement already satisfied: markdown-it-py>=2.2.0 in c:\\users\\user\\anaconda3\\lib\\site-packages (from rich>=10.11.0->streamlit) (3.0.0)\n",
      "Requirement already satisfied: pygments<3.0.0,>=2.13.0 in c:\\users\\user\\anaconda3\\lib\\site-packages (from rich>=10.11.0->streamlit) (2.18.0)\n",
      "Requirement already satisfied: mdurl~=0.1 in c:\\users\\user\\anaconda3\\lib\\site-packages (from markdown-it-py>=2.2.0->rich>=10.11.0->streamlit) (0.1.2)\n",
      "Requirement already satisfied: tzdata in c:\\users\\user\\anaconda3\\lib\\site-packages (from tzlocal>=1.1->streamlit) (2024.1)\n"
     ]
    }
   ],
   "source": [
    "!pip install streamlit"
   ]
  },
  {
   "cell_type": "code",
   "execution_count": 5,
   "metadata": {},
   "outputs": [
    {
     "name": "stdout",
     "output_type": "stream",
     "text": [
      "Note: you may need to restart the kernel to use updated packages.\n"
     ]
    },
    {
     "name": "stderr",
     "output_type": "stream",
     "text": [
      "WARNING: Retrying (Retry(total=4, connect=None, read=None, redirect=None, status=None)) after connection broken by 'ConnectTimeoutError(<pip._vendor.urllib3.connection.HTTPSConnection object at 0x00000261B590B370>, 'Connection to pypi.org timed out. (connect timeout=15)')': /simple/cv2/\n",
      "WARNING: Retrying (Retry(total=3, connect=None, read=None, redirect=None, status=None)) after connection broken by 'ProtocolError('Connection aborted.', ConnectionResetError(10054, 'An existing connection was forcibly closed by the remote host', None, 10054, None))': /simple/cv2/\n",
      "ERROR: Could not find a version that satisfies the requirement cv2 (from versions: none)\n",
      "ERROR: No matching distribution found for cv2\n"
     ]
    }
   ],
   "source": [
    "pip install cv2"
   ]
  },
  {
   "cell_type": "code",
   "execution_count": 6,
   "metadata": {
    "id": "YtOaeOkRs6xQ"
   },
   "outputs": [
    {
     "ename": "ModuleNotFoundError",
     "evalue": "No module named 'cv2'",
     "output_type": "error",
     "traceback": [
      "\u001b[1;31m---------------------------------------------------------------------------\u001b[0m",
      "\u001b[1;31mModuleNotFoundError\u001b[0m                       Traceback (most recent call last)",
      "\u001b[1;32m~\\AppData\\Local\\Temp/ipykernel_17304/1871000993.py\u001b[0m in \u001b[0;36m<module>\u001b[1;34m\u001b[0m\n\u001b[0;32m      3\u001b[0m \u001b[1;31m#which is used for image and video processing. streamlit is a library for building interactive web applications with Python.\u001b[0m\u001b[1;33m\u001b[0m\u001b[1;33m\u001b[0m\u001b[0m\n\u001b[0;32m      4\u001b[0m \u001b[1;33m\u001b[0m\u001b[0m\n\u001b[1;32m----> 5\u001b[1;33m \u001b[1;32mimport\u001b[0m \u001b[0mcv2\u001b[0m\u001b[1;33m\u001b[0m\u001b[1;33m\u001b[0m\u001b[0m\n\u001b[0m\u001b[0;32m      6\u001b[0m \u001b[1;32mimport\u001b[0m \u001b[0mstreamlit\u001b[0m \u001b[1;32mas\u001b[0m \u001b[0mst\u001b[0m\u001b[1;33m\u001b[0m\u001b[1;33m\u001b[0m\u001b[0m\n",
      "\u001b[1;31mModuleNotFoundError\u001b[0m: No module named 'cv2'"
     ]
    }
   ],
   "source": [
    "#Step 1: Import the required libraries\n",
    "#The code begins by importing the necessary libraries. cv2 is the OpenCV library,\n",
    "#which is used for image and video processing. streamlit is a library for building interactive web applications with Python.\n",
    "\n",
    "import cv2\n",
    "import streamlit as st"
   ]
  },
  {
   "cell_type": "code",
   "execution_count": null,
   "metadata": {
    "colab": {
     "base_uri": "https://localhost:8080/"
    },
    "id": "LuyaTVemg6cd",
    "outputId": "fa807efe-010a-41c8-acc8-973d96cf86c6"
   },
   "outputs": [],
   "source": [
    "#import dataset\n",
    "from google.colab import drive\n",
    "drive.mount('/content/drive')"
   ]
  },
  {
   "cell_type": "code",
   "execution_count": null,
   "metadata": {
    "id": "QDuCMmFIGslG"
   },
   "outputs": [],
   "source": []
  },
  {
   "cell_type": "code",
   "execution_count": null,
   "metadata": {
    "id": "IgjHDbivt6G_"
   },
   "outputs": [],
   "source": [
    "# Step 2: Load the face cascade classifier\n",
    "#Face Cascade Classifier Download Link: https://drive.google.com/file/d/1_ND5on55ypLGe0Rbuw6vbxfoN_xVLz_3/view\n",
    "# The face cascade classifier is a pre-trained model that can be used to detect faces in images and videos. The code loads the face cascade classifier file from the specified path.\n",
    "# our personalized facial recognition :\n",
    "\n",
    "face_cascade = cv2.CascadeClassifier(\"/content/drive/MyDrive/Untitled folder/DATASETS/haarcascade_frontalface_default .xml\")"
   ]
  },
  {
   "cell_type": "code",
   "execution_count": null,
   "metadata": {
    "id": "ROdPfp1nuykF"
   },
   "outputs": [],
   "source": [
    "# Step 3: Create a function to capture frames from the webcam and detect faces\n",
    "# Function to detect faces\n",
    "def detect_faces(min_neighbors, scale_factor, rect_color):\n",
    "    # Initialize the webcam\n",
    "    cap = cv2.VideoCapture(0)\n",
    "    while True:\n",
    "        # Read frames from the webcam\n",
    "        ret, frame = cap.read()\n",
    "        # Convert frames to grayscale\n",
    "        gray = cv2.cvtColor(frame, cv2.COLOR_BGR2GRAY)\n",
    "        # Detect faces using the face cascade classifier\n",
    "        faces = face_cascade.detectMultiScale(gray, scaleFactor=scale_factor, minNeighbors=min_neighbors)\n",
    "        # Draw rectangles around detected faces\n",
    "        for (x, y, w, h) in faces:\n",
    "            cv2.rectangle(frame, (x, y), (x + w, y + h), rect_color, 2)\n",
    "        # Display frames with detected faces\n",
    "        cv2.imshow('Face Detection using Viola-Jones Algorithm', frame)\n",
    "        # Save images with detected faces\n",
    "        if st.button(\"Save Images\"):\n",
    "            for i, (x, y, w, h) in enumerate(faces):\n",
    "                cv2.imwrite(f\"detected_face_{i + 1}.png\", frame[y:y+h, x:x+w])\n",
    "        # Exit loop on pressing 'q' key\n",
    "        if cv2.waitKey(1) & 0xFF == ord('q'):\n",
    "            break\n",
    "    # Release webcam and close windows\n",
    "    cap.release()\n",
    "    cv2.destroyAllWindows()"
   ]
  },
  {
   "cell_type": "markdown",
   "metadata": {
    "id": "kbWz2vYWvjBC"
   },
   "source": [
    "•\tThe detect_faces() function captures frames from the webcam and detects faces in the frames.\n",
    "\n",
    "•\tIt first initializes the webcam using cv2.VideoCapture().\n",
    "\n",
    "•\tIt then reads frames from the webcam using cap.read(), converts them to grayscale using cv2.cvtColor(), and detects faces using the face_cascade.detectMultiScale() method.\n",
    "\n",
    "•\tThe scaleFactor and minNeighbors parameters of the detectMultiScale() method control the sensitivity and accuracy of the face detection.\n",
    "\n",
    "•\tOnce faces are detected, the function draws rectangles around them using cv2.rectangle().\n",
    "\n",
    "•\tThe function then displays the frames with the detected faces using cv2.imshow().\n",
    "\n",
    "•\tThe function exits the loop and releases the webcam and all windows when the user presses the 'q' key."
   ]
  },
  {
   "cell_type": "code",
   "execution_count": null,
   "metadata": {
    "colab": {
     "base_uri": "https://localhost:8080/"
    },
    "id": "SyQCwWjqvLsC",
    "outputId": "ea43b0ad-efc7-4ccd-febd-4f739376aa3f"
   },
   "outputs": [],
   "source": [
    "# Step 4: Define the Streamlit app\n",
    "# Streamlit app interface\n",
    "def app():\n",
    "    st.title(\"Face Detection using Viola-Jones Algorithm\")\n",
    "    st.write(\"Press the button below to start detecting faces from your webcam\")\n",
    "    # Instructions for using the app\n",
    "    st.write(\"Instructions:\")\n",
    "    st.write(\"1. Press 'Detect Faces' button to start detecting faces.\")\n",
    "    st.write(\"2. Use sliders to adjust parameters for face detection.\")\n",
    "    st.write(\"3. Choose rectangle color and click 'Save Images' to save detected faces.\")\n",
    "    # Button to start detecting faces\n",
    "    if st.button(\"Detect Faces\"):\n",
    "        min_neighbors = st.slider(\"minNeighbors\", 1, 10, 5)\n",
    "        scale_factor = st.slider(\"scaleFactor\", 1.1, 2.0, 1.3)\n",
    "        rect_color = st.color_picker(\"Choose Rectangle Color\")\n",
    "        detect_faces(min_neighbors, scale_factor, rect_color)\n",
    "\n",
    "if __name__ == \"__main__\":\n",
    "    app()\n"
   ]
  },
  {
   "cell_type": "markdown",
   "metadata": {
    "id": "xVtik7gOwTHI"
   },
   "source": [
    "The app() function defines the Streamlit application. It sets the title of the app and adds a message prompting the user to press a button to start detecting faces from their webcam. When the user presses the button, the detect_faces() function is called."
   ]
  },
  {
   "cell_type": "markdown",
   "metadata": {
    "id": "rX2u139DwZqB"
   },
   "source": [
    "Conclusion :\n",
    "This program demonstrates the implementation of a facial recognition system using the Viola-Jones algorithm. The program is capable of detecting faces in real-time using the computer's webcam, and it draws a rectangle around each face detected. The use of the Haar cascade classifier makes the face detection process more efficient and accurate. This program can be further improved by implementing additional features such as face recognition, tracking, and identification. Overall, this program serves as a solid foundation for building more sophisticated facial recognition systems.\n"
   ]
  }
 ],
 "metadata": {
  "colab": {
   "provenance": []
  },
  "kernelspec": {
   "display_name": "Python 3 (ipykernel)",
   "language": "python",
   "name": "python3"
  },
  "language_info": {
   "codemirror_mode": {
    "name": "ipython",
    "version": 3
   },
   "file_extension": ".py",
   "mimetype": "text/x-python",
   "name": "python",
   "nbconvert_exporter": "python",
   "pygments_lexer": "ipython3",
   "version": "3.9.7"
  }
 },
 "nbformat": 4,
 "nbformat_minor": 1
}
