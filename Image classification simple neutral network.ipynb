{
 "cells": [
  {
   "cell_type": "markdown",
   "metadata": {
    "id": "mF5FgF4evOq4"
   },
   "source": [
    "classifying an image to ten different classes (0-9)"
   ]
  },
  {
   "cell_type": "code",
   "execution_count": 1,
   "metadata": {
    "id": "v-DZl1jL0NLY"
   },
   "outputs": [
    {
     "ename": "ModuleNotFoundError",
     "evalue": "No module named 'tensorflow'",
     "output_type": "error",
     "traceback": [
      "\u001b[1;31m---------------------------------------------------------------------------\u001b[0m",
      "\u001b[1;31mModuleNotFoundError\u001b[0m                       Traceback (most recent call last)",
      "\u001b[1;32m~\\AppData\\Local\\Temp/ipykernel_20276/3112614230.py\u001b[0m in \u001b[0;36m<module>\u001b[1;34m\u001b[0m\n\u001b[1;32m----> 1\u001b[1;33m \u001b[1;32mimport\u001b[0m \u001b[0mtensorflow\u001b[0m \u001b[1;32mas\u001b[0m \u001b[0mtf\u001b[0m\u001b[1;33m\u001b[0m\u001b[1;33m\u001b[0m\u001b[0m\n\u001b[0m\u001b[0;32m      2\u001b[0m \u001b[1;32mfrom\u001b[0m \u001b[0mtensorflow\u001b[0m \u001b[1;32mimport\u001b[0m \u001b[0mkeras\u001b[0m\u001b[1;33m\u001b[0m\u001b[1;33m\u001b[0m\u001b[0m\n\u001b[0;32m      3\u001b[0m \u001b[1;32mimport\u001b[0m \u001b[0mmatplotlib\u001b[0m\u001b[1;33m.\u001b[0m\u001b[0mpyplot\u001b[0m \u001b[1;32mas\u001b[0m \u001b[0mplt\u001b[0m\u001b[1;33m\u001b[0m\u001b[1;33m\u001b[0m\u001b[0m\n\u001b[0;32m      4\u001b[0m \u001b[0mget_ipython\u001b[0m\u001b[1;33m(\u001b[0m\u001b[1;33m)\u001b[0m\u001b[1;33m.\u001b[0m\u001b[0mrun_line_magic\u001b[0m\u001b[1;33m(\u001b[0m\u001b[1;34m'matplotlib'\u001b[0m\u001b[1;33m,\u001b[0m \u001b[1;34m'inline'\u001b[0m\u001b[1;33m)\u001b[0m\u001b[1;33m\u001b[0m\u001b[1;33m\u001b[0m\u001b[0m\n\u001b[0;32m      5\u001b[0m \u001b[1;32mimport\u001b[0m \u001b[0mnumpy\u001b[0m \u001b[1;32mas\u001b[0m \u001b[0mnp\u001b[0m\u001b[1;33m\u001b[0m\u001b[1;33m\u001b[0m\u001b[0m\n",
      "\u001b[1;31mModuleNotFoundError\u001b[0m: No module named 'tensorflow'"
     ]
    }
   ],
   "source": [
    "import tensorflow as tf\n",
    "from tensorflow import keras\n",
    "import matplotlib.pyplot as plt\n",
    "%matplotlib inline\n",
    "import numpy as np\n"
   ]
  },
  {
   "cell_type": "code",
   "execution_count": null,
   "metadata": {
    "id": "9r3FA0-Yys-S"
   },
   "outputs": [],
   "source": [
    "(X_train, y_train), (X_test, y_test) = keras.datasets.mnist.load_data()"
   ]
  },
  {
   "cell_type": "code",
   "execution_count": null,
   "metadata": {
    "colab": {
     "base_uri": "https://localhost:8080/"
    },
    "executionInfo": {
     "elapsed": 545,
     "status": "ok",
     "timestamp": 1721297805783,
     "user": {
      "displayName": "Bamidele Temitope",
      "userId": "08343118629010694587"
     },
     "user_tz": -60
    },
    "id": "mejj621E0bbV",
    "outputId": "1580625b-229d-41cc-d464-4d903c53241b"
   },
   "outputs": [],
   "source": [
    "len(X_train)"
   ]
  },
  {
   "cell_type": "code",
   "execution_count": null,
   "metadata": {
    "colab": {
     "base_uri": "https://localhost:8080/"
    },
    "executionInfo": {
     "elapsed": 1010,
     "status": "ok",
     "timestamp": 1721297809932,
     "user": {
      "displayName": "Bamidele Temitope",
      "userId": "08343118629010694587"
     },
     "user_tz": -60
    },
    "id": "uM4jwOWLzQYf",
    "outputId": "3622b3a7-3846-45d1-87dc-61f1d6d9c92a"
   },
   "outputs": [],
   "source": [
    "len(X_test)"
   ]
  },
  {
   "cell_type": "code",
   "execution_count": null,
   "metadata": {
    "colab": {
     "base_uri": "https://localhost:8080/"
    },
    "executionInfo": {
     "elapsed": 5,
     "status": "ok",
     "timestamp": 1721297812541,
     "user": {
      "displayName": "Bamidele Temitope",
      "userId": "08343118629010694587"
     },
     "user_tz": -60
    },
    "id": "N4jl13rpzTH-",
    "outputId": "023c740a-2a92-4d65-ebb1-c577b7d94062"
   },
   "outputs": [],
   "source": [
    "X_train[0].shape"
   ]
  },
  {
   "cell_type": "code",
   "execution_count": null,
   "metadata": {
    "colab": {
     "base_uri": "https://localhost:8080/"
    },
    "executionInfo": {
     "elapsed": 594,
     "status": "ok",
     "timestamp": 1721297818139,
     "user": {
      "displayName": "Bamidele Temitope",
      "userId": "08343118629010694587"
     },
     "user_tz": -60
    },
    "id": "Yn5-aa5nzgqT",
    "outputId": "d4144e8b-af42-4919-d4c4-7d7f77471269"
   },
   "outputs": [],
   "source": [
    "X_train[1].shape"
   ]
  },
  {
   "cell_type": "code",
   "execution_count": null,
   "metadata": {
    "colab": {
     "base_uri": "https://localhost:8080/",
     "height": 454
    },
    "executionInfo": {
     "elapsed": 1411,
     "status": "ok",
     "timestamp": 1721302095618,
     "user": {
      "displayName": "Bamidele Temitope",
      "userId": "08343118629010694587"
     },
     "user_tz": -60
    },
    "id": "-LbSMmOezm4t",
    "outputId": "ef66873a-8795-4228-92dd-b80f011291e6"
   },
   "outputs": [],
   "source": [
    "#from re import X\n",
    "plt.matshow(X_test[1])"
   ]
  },
  {
   "cell_type": "code",
   "execution_count": null,
   "metadata": {
    "colab": {
     "base_uri": "https://localhost:8080/"
    },
    "executionInfo": {
     "elapsed": 625,
     "status": "ok",
     "timestamp": 1721297837565,
     "user": {
      "displayName": "Bamidele Temitope",
      "userId": "08343118629010694587"
     },
     "user_tz": -60
    },
    "id": "DlWmXiDA0Lcd",
    "outputId": "ca9016c7-52ad-4d45-caf8-bab6e5cf4312"
   },
   "outputs": [],
   "source": [
    "y_train[:5]"
   ]
  },
  {
   "cell_type": "code",
   "execution_count": null,
   "metadata": {
    "colab": {
     "base_uri": "https://localhost:8080/"
    },
    "executionInfo": {
     "elapsed": 8,
     "status": "ok",
     "timestamp": 1721297840058,
     "user": {
      "displayName": "Bamidele Temitope",
      "userId": "08343118629010694587"
     },
     "user_tz": -60
    },
    "id": "gwc3l0fg0-Wi",
    "outputId": "d4324019-84e7-491e-f45a-e816fa242949"
   },
   "outputs": [],
   "source": [
    "X_train.shape"
   ]
  },
  {
   "cell_type": "code",
   "execution_count": null,
   "metadata": {
    "id": "xjCCB8Nf7jL-"
   },
   "outputs": [],
   "source": [
    "X_train = X_train / 255\n",
    "X_test = X_test / 255"
   ]
  },
  {
   "cell_type": "code",
   "execution_count": null,
   "metadata": {
    "colab": {
     "base_uri": "https://localhost:8080/"
    },
    "executionInfo": {
     "elapsed": 531,
     "status": "ok",
     "timestamp": 1721302067296,
     "user": {
      "displayName": "Bamidele Temitope",
      "userId": "08343118629010694587"
     },
     "user_tz": -60
    },
    "id": "0evMJuUW78yg",
    "outputId": "e9b3c95f-4865-40d3-93af-e689f6a1487e"
   },
   "outputs": [],
   "source": [
    "X_test[1]"
   ]
  },
  {
   "cell_type": "code",
   "execution_count": null,
   "metadata": {
    "id": "ZzrubKEj0gCZ"
   },
   "outputs": [],
   "source": [
    "# flatten the training dataset, to get (60000, 784)\n",
    "X_train_flattened = X_train.reshape(len(X_train), 28 * 28)"
   ]
  },
  {
   "cell_type": "code",
   "execution_count": null,
   "metadata": {
    "colab": {
     "base_uri": "https://localhost:8080/"
    },
    "executionInfo": {
     "elapsed": 4,
     "status": "ok",
     "timestamp": 1721299882987,
     "user": {
      "displayName": "Bamidele Temitope",
      "userId": "08343118629010694587"
     },
     "user_tz": -60
    },
    "id": "Lq7DlbHe1W3s",
    "outputId": "ae83f026-ee3a-4d97-c561-5b2b76677ff0"
   },
   "outputs": [],
   "source": [
    "X_train_flattened.shape"
   ]
  },
  {
   "cell_type": "code",
   "execution_count": null,
   "metadata": {
    "id": "aufp9ARe1xZ7"
   },
   "outputs": [],
   "source": [
    "X_test_flattened = X_test.reshape(len(X_test), 28 * 28)"
   ]
  },
  {
   "cell_type": "code",
   "execution_count": null,
   "metadata": {
    "colab": {
     "base_uri": "https://localhost:8080/"
    },
    "executionInfo": {
     "elapsed": 4,
     "status": "ok",
     "timestamp": 1721299891674,
     "user": {
      "displayName": "Bamidele Temitope",
      "userId": "08343118629010694587"
     },
     "user_tz": -60
    },
    "id": "x3NosS7c2BF6",
    "outputId": "1db6969e-57a1-47a5-c948-74f3df60cf3f"
   },
   "outputs": [],
   "source": [
    "X_test_flattened.shape"
   ]
  },
  {
   "cell_type": "code",
   "execution_count": null,
   "metadata": {
    "colab": {
     "base_uri": "https://localhost:8080/"
    },
    "executionInfo": {
     "elapsed": 759,
     "status": "ok",
     "timestamp": 1721299895762,
     "user": {
      "displayName": "Bamidele Temitope",
      "userId": "08343118629010694587"
     },
     "user_tz": -60
    },
    "id": "IIk6KnED2PMo",
    "outputId": "be682c43-9445-4651-a83b-65f3aa8d55e4"
   },
   "outputs": [],
   "source": [
    "X_train_flattened[0]"
   ]
  },
  {
   "cell_type": "code",
   "execution_count": null,
   "metadata": {
    "colab": {
     "base_uri": "https://localhost:8080/"
    },
    "executionInfo": {
     "elapsed": 26650,
     "status": "ok",
     "timestamp": 1721299936833,
     "user": {
      "displayName": "Bamidele Temitope",
      "userId": "08343118629010694587"
     },
     "user_tz": -60
    },
    "id": "c-PLCfKM2TGE",
    "outputId": "053f3380-29c0-43de-fef1-b459ee6b830e"
   },
   "outputs": [],
   "source": [
    "# Creating simple neutral network\n",
    "model = keras.Sequential([\n",
    "    keras.layers.Dense(10, input_shape=(784,),activation=\"sigmoid\" )\n",
    "])\n",
    "\n",
    "model.compile(\n",
    "    optimizer = \"adam\",\n",
    "    loss=\"sparse_categorical_crossentropy\",\n",
    "    metrics=[\"accuracy\"])\n",
    "\n",
    "model.fit(X_train_flattened, y_train, epochs=5)"
   ]
  },
  {
   "cell_type": "code",
   "execution_count": null,
   "metadata": {
    "colab": {
     "base_uri": "https://localhost:8080/"
    },
    "executionInfo": {
     "elapsed": 1800,
     "status": "ok",
     "timestamp": 1721301290196,
     "user": {
      "displayName": "Bamidele Temitope",
      "userId": "08343118629010694587"
     },
     "user_tz": -60
    },
    "id": "hFCcbTv06O42",
    "outputId": "1b2a19fc-3dcf-46b2-b5ef-2f5d85de37d5"
   },
   "outputs": [],
   "source": [
    "model.evaluate(X_test_flattened, y_test)\n"
   ]
  },
  {
   "cell_type": "code",
   "execution_count": null,
   "metadata": {
    "colab": {
     "base_uri": "https://localhost:8080/",
     "height": 454
    },
    "executionInfo": {
     "elapsed": 570,
     "status": "ok",
     "timestamp": 1721301307313,
     "user": {
      "displayName": "Bamidele Temitope",
      "userId": "08343118629010694587"
     },
     "user_tz": -60
    },
    "id": "m8BpwbcB9wYi",
    "outputId": "66c57997-c7e6-4463-b167-80ace4eed36a"
   },
   "outputs": [],
   "source": [
    "plt.matshow(X_test[0])"
   ]
  },
  {
   "cell_type": "code",
   "execution_count": null,
   "metadata": {
    "colab": {
     "base_uri": "https://localhost:8080/"
    },
    "executionInfo": {
     "elapsed": 1850,
     "status": "ok",
     "timestamp": 1721301818218,
     "user": {
      "displayName": "Bamidele Temitope",
      "userId": "08343118629010694587"
     },
     "user_tz": -60
    },
    "id": "LiKcULZw9ER4",
    "outputId": "af82eb38-fef1-4828-f032-c269739b5117"
   },
   "outputs": [],
   "source": [
    "y_predicted = model.predict(X_test_flattened)"
   ]
  },
  {
   "cell_type": "code",
   "execution_count": null,
   "metadata": {
    "colab": {
     "base_uri": "https://localhost:8080/"
    },
    "executionInfo": {
     "elapsed": 669,
     "status": "ok",
     "timestamp": 1721302307524,
     "user": {
      "displayName": "Bamidele Temitope",
      "userId": "08343118629010694587"
     },
     "user_tz": -60
    },
    "id": "V5BKWseT9pl_",
    "outputId": "04ad2006-b381-4e2a-a363-857e89a3d598"
   },
   "outputs": [],
   "source": [
    "y_predicted"
   ]
  },
  {
   "cell_type": "code",
   "execution_count": null,
   "metadata": {
    "colab": {
     "base_uri": "https://localhost:8080/"
    },
    "executionInfo": {
     "elapsed": 564,
     "status": "ok",
     "timestamp": 1721302279574,
     "user": {
      "displayName": "Bamidele Temitope",
      "userId": "08343118629010694587"
     },
     "user_tz": -60
    },
    "id": "Dso_pZ1h-ACN",
    "outputId": "bee7236a-7fd3-4921-96f9-37011942c6cf"
   },
   "outputs": [],
   "source": [
    "# checking the maximum value\n",
    "np.argmax(y_predicted[8])"
   ]
  },
  {
   "cell_type": "code",
   "execution_count": null,
   "metadata": {
    "colab": {
     "base_uri": "https://localhost:8080/"
    },
    "executionInfo": {
     "elapsed": 372,
     "status": "ok",
     "timestamp": 1721196154036,
     "user": {
      "displayName": "Bamidele Temitope",
      "userId": "08343118629010694587"
     },
     "user_tz": -60
    },
    "id": "YD_k6BlY-eTt",
    "outputId": "4af713e0-6e11-44a5-bf46-30d578896e15"
   },
   "outputs": [],
   "source": [
    "y_test[:5]"
   ]
  },
  {
   "cell_type": "code",
   "execution_count": null,
   "metadata": {
    "id": "fcx9TTsPQoq4"
   },
   "outputs": [],
   "source": [
    "# converting y_predicted into class label\n",
    "y_predicted_labels = [np.argmax(i) for i in y_predicted]"
   ]
  },
  {
   "cell_type": "code",
   "execution_count": null,
   "metadata": {
    "id": "eK_4KiTNnXd7"
   },
   "outputs": [],
   "source": [
    "#y_predicted_labels"
   ]
  },
  {
   "cell_type": "code",
   "execution_count": null,
   "metadata": {
    "colab": {
     "base_uri": "https://localhost:8080/"
    },
    "executionInfo": {
     "elapsed": 528,
     "status": "ok",
     "timestamp": 1721302950948,
     "user": {
      "displayName": "Bamidele Temitope",
      "userId": "08343118629010694587"
     },
     "user_tz": -60
    },
    "id": "1cfey9OTpn6I",
    "outputId": "caa63a0a-a3a3-450d-952f-558683ff11f4"
   },
   "outputs": [],
   "source": [
    "y_test"
   ]
  },
  {
   "cell_type": "code",
   "execution_count": null,
   "metadata": {
    "id": "ViEeP489TOmy"
   },
   "outputs": [],
   "source": [
    "# confusion matrix\n",
    "cm = tf.math.confusion_matrix(labels=y_test, predictions=y_predicted_labels)"
   ]
  },
  {
   "cell_type": "code",
   "execution_count": null,
   "metadata": {
    "colab": {
     "base_uri": "https://localhost:8080/"
    },
    "executionInfo": {
     "elapsed": 722,
     "status": "ok",
     "timestamp": 1721302976465,
     "user": {
      "displayName": "Bamidele Temitope",
      "userId": "08343118629010694587"
     },
     "user_tz": -60
    },
    "id": "X5ABSSOoTwZN",
    "outputId": "0daf2046-0569-49ce-df5d-c07ccb2765fe"
   },
   "outputs": [],
   "source": [
    "cm"
   ]
  },
  {
   "cell_type": "code",
   "execution_count": null,
   "metadata": {
    "colab": {
     "base_uri": "https://localhost:8080/",
     "height": 636
    },
    "executionInfo": {
     "elapsed": 2123,
     "status": "ok",
     "timestamp": 1721275630640,
     "user": {
      "displayName": "Bamidele Temitope",
      "userId": "08343118629010694587"
     },
     "user_tz": -60
    },
    "id": "NG8Fm_niT3Jl",
    "outputId": "fec23b82-fa44-4ec4-a0c3-9b40460605d7"
   },
   "outputs": [],
   "source": [
    "import seaborn as sns\n",
    "plt.figure(figsize=(10, 7))\n",
    "sns.heatmap(cm, annot=True, fmt=\"d\")\n",
    "plt.xlabel(\"Predicted\")\n",
    "plt.ylabel(\"Truth\")"
   ]
  },
  {
   "cell_type": "code",
   "execution_count": null,
   "metadata": {
    "colab": {
     "base_uri": "https://localhost:8080/"
    },
    "executionInfo": {
     "elapsed": 38684,
     "status": "ok",
     "timestamp": 1721303857943,
     "user": {
      "displayName": "Bamidele Temitope",
      "userId": "08343118629010694587"
     },
     "user_tz": -60
    },
    "id": "1ommI4xzURLj",
    "outputId": "29ea0c69-7ada-49c7-86f4-9c8652b71cce"
   },
   "outputs": [],
   "source": [
    "# Adding an hidden layer to the model\n",
    "\n",
    "model = keras.Sequential([\n",
    "    keras.layers.Dense(100, input_shape=(784,),activation=\"relu\" ),\n",
    "    keras.layers.Dense(10,activation=\"sigmoid\" )\n",
    "])\n",
    "\n",
    "\n",
    "model.compile(\n",
    "    optimizer = \"adam\",\n",
    "    loss=\"sparse_categorical_crossentropy\",\n",
    "    metrics=[\"accuracy\"])\n",
    "\n",
    "model.fit(X_train_flattened, y_train, epochs=5)"
   ]
  },
  {
   "cell_type": "code",
   "execution_count": null,
   "metadata": {
    "colab": {
     "base_uri": "https://localhost:8080/"
    },
    "executionInfo": {
     "elapsed": 1931,
     "status": "ok",
     "timestamp": 1721303873273,
     "user": {
      "displayName": "Bamidele Temitope",
      "userId": "08343118629010694587"
     },
     "user_tz": -60
    },
    "id": "Do0mBma5D9XZ",
    "outputId": "9897cbd2-1c0c-4df1-c915-e6703766de2c"
   },
   "outputs": [],
   "source": [
    "model.evaluate(X_test_flattened, y_test)"
   ]
  },
  {
   "cell_type": "code",
   "execution_count": null,
   "metadata": {
    "colab": {
     "base_uri": "https://localhost:8080/",
     "height": 654
    },
    "executionInfo": {
     "elapsed": 3443,
     "status": "ok",
     "timestamp": 1721304395490,
     "user": {
      "displayName": "Bamidele Temitope",
      "userId": "08343118629010694587"
     },
     "user_tz": -60
    },
    "id": "YDRCAoXJD-oF",
    "outputId": "98815bce-ed6b-4c83-c2b3-6e7a0005d64a"
   },
   "outputs": [],
   "source": [
    "y_predicted = model.predict(X_test_flattened)\n",
    "y_predicted_labels = [np.argmax(i) for i in y_predicted]\n",
    "cm = tf.math.confusion_matrix(labels=y_test, predictions=y_predicted_labels)\n",
    "\n",
    "import seaborn as sns\n",
    "plt.figure(figsize=(10, 7))\n",
    "sns.heatmap(cm, annot=True, fmt=\"d\")\n",
    "plt.xlabel(\"Predicted\")\n",
    "plt.ylabel(\"Truth\")\n"
   ]
  },
  {
   "cell_type": "code",
   "execution_count": null,
   "metadata": {
    "colab": {
     "base_uri": "https://localhost:8080/"
    },
    "executionInfo": {
     "elapsed": 31452,
     "status": "ok",
     "timestamp": 1721277304833,
     "user": {
      "displayName": "Bamidele Temitope",
      "userId": "08343118629010694587"
     },
     "user_tz": -60
    },
    "id": "2Ro9NZTeEH1s",
    "outputId": "587ba5ae-4da3-4fbc-9d99-e1a323a23662"
   },
   "outputs": [],
   "source": [
    "# using the keras flaten function\n",
    "\n",
    "model = keras.Sequential([\n",
    "    keras.layers.Flatten(input_shape=(28,28)),\n",
    "    keras.layers.Dense(100, input_shape=(784,),activation=\"relu\" ),\n",
    "    keras.layers.Dense(10,activation=\"sigmoid\" )\n",
    "])\n",
    "\n",
    "model.compile(\n",
    "    optimizer = \"adam\",\n",
    "    loss=\"sparse_categorical_crossentropy\",\n",
    "    metrics=[\"accuracy\"])\n",
    "\n",
    "model.fit(X_train, y_train, epochs=5)"
   ]
  },
  {
   "cell_type": "code",
   "execution_count": null,
   "metadata": {
    "id": "ijaPvYjAHtJx"
   },
   "outputs": [],
   "source": []
  }
 ],
 "metadata": {
  "accelerator": "GPU",
  "colab": {
   "authorship_tag": "ABX9TyNlbghd7GLzbricsxC4Csnb",
   "gpuType": "T4",
   "provenance": []
  },
  "kernelspec": {
   "display_name": "Python 3 (ipykernel)",
   "language": "python",
   "name": "python3"
  },
  "language_info": {
   "codemirror_mode": {
    "name": "ipython",
    "version": 3
   },
   "file_extension": ".py",
   "mimetype": "text/x-python",
   "name": "python",
   "nbconvert_exporter": "python",
   "pygments_lexer": "ipython3",
   "version": "3.9.7"
  }
 },
 "nbformat": 4,
 "nbformat_minor": 1
}
