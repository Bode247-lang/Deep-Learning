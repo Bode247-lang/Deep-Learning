{
 "cells": [
  {
   "cell_type": "markdown",
   "metadata": {
    "id": "IjqpolOQh8Go"
   },
   "source": [
    "### Tensorflow loss value\n",
    "\n",
    "- Sparse_categorical_crossentropy\n",
    "- binary_crossentropy\n",
    "- categorical_crossentropy\n",
    "- mean_squared_error\n",
    "\n",
    "Loss function is used in neutral network training"
   ]
  },
  {
   "cell_type": "code",
   "execution_count": 1,
   "metadata": {
    "executionInfo": {
     "elapsed": 616,
     "status": "ok",
     "timestamp": 1721871753151,
     "user": {
      "displayName": "Bamidele Temitope",
      "userId": "08343118629010694587"
     },
     "user_tz": -60
    },
    "id": "MaBeTH5Nh6HL"
   },
   "outputs": [],
   "source": [
    "import numpy as np"
   ]
  },
  {
   "cell_type": "code",
   "execution_count": 2,
   "metadata": {
    "executionInfo": {
     "elapsed": 560,
     "status": "ok",
     "timestamp": 1721872524210,
     "user": {
      "displayName": "Bamidele Temitope",
      "userId": "08343118629010694587"
     },
     "user_tz": -60
    },
    "id": "qAjCffGmhxvw"
   },
   "outputs": [],
   "source": [
    "y_predicted = np.array([1, 1, 0, 0, 1])\n",
    "y_true = np.array([0.30, 0.7, 1, 0, 0.5])"
   ]
  },
  {
   "cell_type": "code",
   "execution_count": 3,
   "metadata": {
    "id": "wVh1f58Dc3Cq"
   },
   "outputs": [],
   "source": [
    "def mae(y_true, y_predicted):\n",
    "  total_error = 0\n",
    "  for yt, yp in zip(y_true, y_predicted):\n",
    "   total_error += abs(yt - yp)\n",
    "  print(\"Total error:\", total_error)\n",
    "  mae = total_error / len(y_true)\n",
    "  return mae"
   ]
  },
  {
   "cell_type": "code",
   "execution_count": 4,
   "metadata": {
    "colab": {
     "base_uri": "https://localhost:8080/"
    },
    "executionInfo": {
     "elapsed": 385,
     "status": "ok",
     "timestamp": 1721803382369,
     "user": {
      "displayName": "Bamidele Temitope",
      "userId": "08343118629010694587"
     },
     "user_tz": -60
    },
    "id": "ijeSdT6VdNmo",
    "outputId": "f60d3ad7-5de4-46b6-801c-28c5cd50da19"
   },
   "outputs": [
    {
     "name": "stdout",
     "output_type": "stream",
     "text": [
      "Total error: 2.5\n"
     ]
    },
    {
     "data": {
      "text/plain": [
       "0.5"
      ]
     },
     "execution_count": 4,
     "metadata": {},
     "output_type": "execute_result"
    }
   ],
   "source": [
    "mae(y_true, y_predicted)"
   ]
  },
  {
   "cell_type": "code",
   "execution_count": 5,
   "metadata": {
    "colab": {
     "base_uri": "https://localhost:8080/"
    },
    "executionInfo": {
     "elapsed": 358,
     "status": "ok",
     "timestamp": 1721871835977,
     "user": {
      "displayName": "Bamidele Temitope",
      "userId": "08343118629010694587"
     },
     "user_tz": -60
    },
    "id": "bGRpZj5WdSHU",
    "outputId": "3f37675e-3e41-46b0-9b8f-f74ca42aed1a"
   },
   "outputs": [
    {
     "data": {
      "text/plain": [
       "0.5"
      ]
     },
     "execution_count": 5,
     "metadata": {},
     "output_type": "execute_result"
    }
   ],
   "source": [
    "# Using numpy\n",
    "np.mean(np.abs(y_predicted - y_true))"
   ]
  },
  {
   "cell_type": "code",
   "execution_count": 6,
   "metadata": {
    "colab": {
     "base_uri": "https://localhost:8080/"
    },
    "executionInfo": {
     "elapsed": 335,
     "status": "ok",
     "timestamp": 1721872224124,
     "user": {
      "displayName": "Bamidele Temitope",
      "userId": "08343118629010694587"
     },
     "user_tz": -60
    },
    "id": "Xr2v_APWjnvY",
    "outputId": "db606175-634c-4397-aa5d-150f9378b0c7"
   },
   "outputs": [
    {
     "data": {
      "text/plain": [
       "-48.35428695287496"
      ]
     },
     "execution_count": 6,
     "metadata": {},
     "output_type": "execute_result"
    }
   ],
   "source": [
    "# log loss function\n",
    "np.log(0.000000000000000000001)"
   ]
  },
  {
   "cell_type": "code",
   "execution_count": null,
   "metadata": {
    "id": "sbqtzNRelQwF"
   },
   "outputs": [],
   "source": []
  },
  {
   "cell_type": "code",
   "execution_count": 7,
   "metadata": {
    "executionInfo": {
     "elapsed": 341,
     "status": "ok",
     "timestamp": 1721872278194,
     "user": {
      "displayName": "Bamidele Temitope",
      "userId": "08343118629010694587"
     },
     "user_tz": -60
    },
    "id": "pD45PGR9lUGg"
   },
   "outputs": [],
   "source": [
    "eplison = 1e-15"
   ]
  },
  {
   "cell_type": "code",
   "execution_count": 8,
   "metadata": {
    "colab": {
     "base_uri": "https://localhost:8080/"
    },
    "executionInfo": {
     "elapsed": 334,
     "status": "ok",
     "timestamp": 1721872802905,
     "user": {
      "displayName": "Bamidele Temitope",
      "userId": "08343118629010694587"
     },
     "user_tz": -60
    },
    "id": "P4hgF95-nTEf",
    "outputId": "cee4edd6-6b29-491e-c36a-d9f5e78cddf4"
   },
   "outputs": [
    {
     "data": {
      "text/plain": [
       "[1, 1, 0.999999999999999, 0.999999999999999, 1]"
      ]
     },
     "execution_count": 8,
     "metadata": {},
     "output_type": "execute_result"
    }
   ],
   "source": [
    "y_predicted_new = [max(i, 1 - eplison) for i in y_predicted]\n",
    "y_predicted_new"
   ]
  },
  {
   "cell_type": "code",
   "execution_count": 9,
   "metadata": {
    "colab": {
     "base_uri": "https://localhost:8080/"
    },
    "executionInfo": {
     "elapsed": 343,
     "status": "ok",
     "timestamp": 1721872807494,
     "user": {
      "displayName": "Bamidele Temitope",
      "userId": "08343118629010694587"
     },
     "user_tz": -60
    },
    "id": "F2EsISoJle_R",
    "outputId": "04c5698f-dfd5-4ced-917c-3303139e5880"
   },
   "outputs": [
    {
     "data": {
      "text/plain": [
       "[0.999999999999999,\n",
       " 0.999999999999999,\n",
       " 0.999999999999999,\n",
       " 0.999999999999999,\n",
       " 0.999999999999999]"
      ]
     },
     "execution_count": 9,
     "metadata": {},
     "output_type": "execute_result"
    }
   ],
   "source": [
    "y_predicted_new = [min(i, 1 - eplison) for i in y_predicted_new]\n",
    "y_predicted_new"
   ]
  },
  {
   "cell_type": "code",
   "execution_count": 10,
   "metadata": {
    "colab": {
     "base_uri": "https://localhost:8080/"
    },
    "executionInfo": {
     "elapsed": 415,
     "status": "ok",
     "timestamp": 1721872812925,
     "user": {
      "displayName": "Bamidele Temitope",
      "userId": "08343118629010694587"
     },
     "user_tz": -60
    },
    "id": "3-_LNc0Tl4ur",
    "outputId": "632695ea-9217-493c-adfd-823e6f6d17ed"
   },
   "outputs": [
    {
     "data": {
      "text/plain": [
       "array([-9.99200722e-16, -9.99200722e-16, -9.99200722e-16, -9.99200722e-16,\n",
       "       -9.99200722e-16])"
      ]
     },
     "execution_count": 10,
     "metadata": {},
     "output_type": "execute_result"
    }
   ],
   "source": [
    "y_predicted_new = np.array(y_predicted_new)\n",
    "np.log(y_predicted_new)"
   ]
  },
  {
   "cell_type": "code",
   "execution_count": 11,
   "metadata": {
    "colab": {
     "base_uri": "https://localhost:8080/"
    },
    "executionInfo": {
     "elapsed": 342,
     "status": "ok",
     "timestamp": 1721873026645,
     "user": {
      "displayName": "Bamidele Temitope",
      "userId": "08343118629010694587"
     },
     "user_tz": -60
    },
    "id": "CrrxfdTtn0wN",
    "outputId": "70f2c08c-d855-444f-dd86-2984ea1b4782"
   },
   "outputs": [
    {
     "data": {
      "text/plain": [
       "17.26978799617044"
      ]
     },
     "execution_count": 11,
     "metadata": {},
     "output_type": "execute_result"
    }
   ],
   "source": [
    "-np.mean(y_true*np.log(y_predicted_new) +(1-y_true)*np.log(1-y_predicted_new))"
   ]
  },
  {
   "cell_type": "code",
   "execution_count": 12,
   "metadata": {
    "executionInfo": {
     "elapsed": 353,
     "status": "ok",
     "timestamp": 1721873387980,
     "user": {
      "displayName": "Bamidele Temitope",
      "userId": "08343118629010694587"
     },
     "user_tz": -60
    },
    "id": "uR5LccH8oy66"
   },
   "outputs": [],
   "source": [
    "def log_loss(y_true, y_predicted):\n",
    "  eplison = 1e-15\n",
    "  y_predicted_new = [max(i, 1 - eplison) for i in y_predicted]\n",
    "  y_predicted_new = [min(i, 1 - eplison) for i in y_predicted_new]\n",
    "  y_predicted_new = np.array(y_predicted_new)\n",
    "  return -np.mean(y_true*np.log(y_predicted_new) +(1-y_true)*np.log(1-y_predicted_new))\n",
    "\n",
    "\n"
   ]
  },
  {
   "cell_type": "code",
   "execution_count": 13,
   "metadata": {
    "colab": {
     "base_uri": "https://localhost:8080/"
    },
    "executionInfo": {
     "elapsed": 344,
     "status": "ok",
     "timestamp": 1721873435666,
     "user": {
      "displayName": "Bamidele Temitope",
      "userId": "08343118629010694587"
     },
     "user_tz": -60
    },
    "id": "4zQ-AVh5pv2N",
    "outputId": "1203a1dc-e4f0-4c2a-ad94-540959f91df0"
   },
   "outputs": [
    {
     "data": {
      "text/plain": [
       "17.26978799617044"
      ]
     },
     "execution_count": 13,
     "metadata": {},
     "output_type": "execute_result"
    }
   ],
   "source": [
    "log_loss(y_true, y_predicted)"
   ]
  }
 ],
 "metadata": {
  "colab": {
   "authorship_tag": "ABX9TyPIbHTsoMnnKp1J0J2gaGvf",
   "provenance": []
  },
  "kernelspec": {
   "display_name": "Python 3 (ipykernel)",
   "language": "python",
   "name": "python3"
  },
  "language_info": {
   "codemirror_mode": {
    "name": "ipython",
    "version": 3
   },
   "file_extension": ".py",
   "mimetype": "text/x-python",
   "name": "python",
   "nbconvert_exporter": "python",
   "pygments_lexer": "ipython3",
   "version": "3.9.7"
  }
 },
 "nbformat": 4,
 "nbformat_minor": 1
}
