{
 "cells": [
  {
   "cell_type": "code",
   "execution_count": 1,
   "metadata": {
    "executionInfo": {
     "elapsed": 6,
     "status": "ok",
     "timestamp": 1721577929777,
     "user": {
      "displayName": "Bamidele Temitope",
      "userId": "08343118629010694587"
     },
     "user_tz": -60
    },
    "id": "yCtbvFgbCc1J"
   },
   "outputs": [],
   "source": [
    "import numpy as np"
   ]
  },
  {
   "cell_type": "code",
   "execution_count": 2,
   "metadata": {
    "executionInfo": {
     "elapsed": 369,
     "status": "ok",
     "timestamp": 1721578048448,
     "user": {
      "displayName": "Bamidele Temitope",
      "userId": "08343118629010694587"
     },
     "user_tz": -60
    },
    "id": "6D4yFRSKCiTj"
   },
   "outputs": [],
   "source": [
    "revenue = np.array([[100, 200, 220], [24, 36, 40], [12, 1, 20]])\n",
    "expenses = np.array([[80, 90, 100], [10, 16, 20], [8, 10, 10]])"
   ]
  },
  {
   "cell_type": "code",
   "execution_count": 3,
   "metadata": {
    "executionInfo": {
     "elapsed": 1288,
     "status": "ok",
     "timestamp": 1721578096208,
     "user": {
      "displayName": "Bamidele Temitope",
      "userId": "08343118629010694587"
     },
     "user_tz": -60
    },
    "id": "CY4OuLSHDEgD"
   },
   "outputs": [],
   "source": [
    "profit = revenue - expenses"
   ]
  },
  {
   "cell_type": "code",
   "execution_count": 4,
   "metadata": {
    "colab": {
     "base_uri": "https://localhost:8080/"
    },
    "executionInfo": {
     "elapsed": 6,
     "status": "ok",
     "timestamp": 1721578105049,
     "user": {
      "displayName": "Bamidele Temitope",
      "userId": "08343118629010694587"
     },
     "user_tz": -60
    },
    "id": "bVYoh08gDPb-",
    "outputId": "4cd8301c-9658-4f26-bea1-242557fb7335"
   },
   "outputs": [
    {
     "data": {
      "text/plain": [
       "array([[ 20, 110, 120],\n",
       "       [ 14,  20,  20],\n",
       "       [  4,  -9,  10]])"
      ]
     },
     "execution_count": 4,
     "metadata": {},
     "output_type": "execute_result"
    }
   ],
   "source": [
    "profit"
   ]
  },
  {
   "cell_type": "code",
   "execution_count": 5,
   "metadata": {
    "executionInfo": {
     "elapsed": 365,
     "status": "ok",
     "timestamp": 1721578550008,
     "user": {
      "displayName": "Bamidele Temitope",
      "userId": "08343118629010694587"
     },
     "user_tz": -60
    },
    "id": "8UESkjCLDR6f"
   },
   "outputs": [],
   "source": [
    "price_per_unit = np.array([1000, 400, 1200])\n",
    "units = np.array([[30, 40, 50], [5, 10, 15], [2, 5, 7]])"
   ]
  },
  {
   "cell_type": "code",
   "execution_count": 6,
   "metadata": {
    "colab": {
     "base_uri": "https://localhost:8080/"
    },
    "executionInfo": {
     "elapsed": 384,
     "status": "ok",
     "timestamp": 1721578690967,
     "user": {
      "displayName": "Bamidele Temitope",
      "userId": "08343118629010694587"
     },
     "user_tz": -60
    },
    "id": "TxjApRnpE3It",
    "outputId": "aa97bf50-2e7b-47bb-ad48-e763816fdb84"
   },
   "outputs": [
    {
     "data": {
      "text/plain": [
       "array([34400, 50000, 64400])"
      ]
     },
     "execution_count": 6,
     "metadata": {},
     "output_type": "execute_result"
    }
   ],
   "source": [
    "np.dot(price_per_unit, units)"
   ]
  },
  {
   "cell_type": "code",
   "execution_count": null,
   "metadata": {
    "id": "OU59dhD6FhMg"
   },
   "outputs": [],
   "source": []
  }
 ],
 "metadata": {
  "colab": {
   "authorship_tag": "ABX9TyO/DE/TTWoDU3IvH3MWD55p",
   "provenance": []
  },
  "kernelspec": {
   "display_name": "Python 3 (ipykernel)",
   "language": "python",
   "name": "python3"
  },
  "language_info": {
   "codemirror_mode": {
    "name": "ipython",
    "version": 3
   },
   "file_extension": ".py",
   "mimetype": "text/x-python",
   "name": "python",
   "nbconvert_exporter": "python",
   "pygments_lexer": "ipython3",
   "version": "3.9.7"
  }
 },
 "nbformat": 4,
 "nbformat_minor": 1
}
